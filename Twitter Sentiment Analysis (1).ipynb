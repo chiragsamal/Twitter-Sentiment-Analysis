{
 "cells": [
  {
   "cell_type": "markdown",
   "metadata": {},
   "source": [
    "# Twitter Sentiment Analysis"
   ]
  },
  {
   "cell_type": "markdown",
   "metadata": {},
   "source": [
    "## Importing Libraries"
   ]
  },
  {
   "cell_type": "code",
   "execution_count": 0,
   "metadata": {
    "colab": {},
    "colab_type": "code",
    "id": "iqaClZHQSyg-"
   },
   "outputs": [],
   "source": [
    "from fastai.text import * \n",
    "\n",
    "# fastai needs us to specify a path sometimes\n",
    "from pathlib import Path\n",
    "\n",
    "# Import usual data science libraries\n",
    "import pandas as pd\n",
    "import seaborn as sns\n",
    "import numpy as np\n",
    "\n",
    "from sklearn.model_selection import train_test_split\n",
    "from sklearn.metrics import roc_curve, roc_auc_score"
   ]
  },
  {
   "cell_type": "markdown",
   "metadata": {},
   "source": [
    "### Loading the dataset"
   ]
  },
  {
   "cell_type": "code",
   "execution_count": 0,
   "metadata": {
    "colab": {},
    "colab_type": "code",
    "id": "PXT6ngHjTN8G"
   },
   "outputs": [],
   "source": [
    "path = Path('/content/twitter-airline-sentiment')\n",
    "file_name = 'Tweets.csv'"
   ]
  },
  {
   "cell_type": "code",
   "execution_count": 55,
   "metadata": {
    "colab": {
     "base_uri": "https://localhost:8080/",
     "height": 34
    },
    "colab_type": "code",
    "id": "nq22bsTLTu9R",
    "outputId": "1665eb6d-85d1-4898-96dc-99012b8769d5"
   },
   "outputs": [
    {
     "data": {
      "text/plain": [
       "219600"
      ]
     },
     "execution_count": 55,
     "metadata": {
      "tags": []
     },
     "output_type": "execute_result"
    }
   ],
   "source": [
    "file_path = path / file_name\n",
    "df_full = pd.read_csv(file_path)\n",
    "df_full.size"
   ]
  },
  {
   "cell_type": "code",
   "execution_count": 0,
   "metadata": {
    "colab": {},
    "colab_type": "code",
    "id": "nBG_HVj1TzKa"
   },
   "outputs": [],
   "source": [
    "pd.set_option('display.max_colwidth', 0)"
   ]
  },
  {
   "cell_type": "markdown",
   "metadata": {},
   "source": [
    "### Selecting only Sentiments and Tweet"
   ]
  },
  {
   "cell_type": "code",
   "execution_count": 57,
   "metadata": {
    "colab": {
     "base_uri": "https://localhost:8080/",
     "height": 377
    },
    "colab_type": "code",
    "id": "jH8U1Yy6Uc5O",
    "outputId": "612d8682-0ce0-459a-a5f5-6a34a4556cfb"
   },
   "outputs": [
    {
     "data": {
      "text/html": [
       "<div>\n",
       "<style scoped>\n",
       "    .dataframe tbody tr th:only-of-type {\n",
       "        vertical-align: middle;\n",
       "    }\n",
       "\n",
       "    .dataframe tbody tr th {\n",
       "        vertical-align: top;\n",
       "    }\n",
       "\n",
       "    .dataframe thead th {\n",
       "        text-align: right;\n",
       "    }\n",
       "</style>\n",
       "<table border=\"1\" class=\"dataframe\">\n",
       "  <thead>\n",
       "    <tr style=\"text-align: right;\">\n",
       "      <th></th>\n",
       "      <th>airline_sentiment</th>\n",
       "      <th>text</th>\n",
       "    </tr>\n",
       "  </thead>\n",
       "  <tbody>\n",
       "    <tr>\n",
       "      <th>8919</th>\n",
       "      <td>neutral</td>\n",
       "      <td>@JetBlue how do I get a copy of my last flight showing original time and delay? I need it for work. Thanks!</td>\n",
       "    </tr>\n",
       "    <tr>\n",
       "      <th>5812</th>\n",
       "      <td>negative</td>\n",
       "      <td>@SouthwestAir Weather seriously cannot even be the only excuse at this point because it was awful service in the summer too. Over it.</td>\n",
       "    </tr>\n",
       "    <tr>\n",
       "      <th>2091</th>\n",
       "      <td>negative</td>\n",
       "      <td>@united more people stranded cause you suck. Better yet, you weasel out of Flight Booking Problems rooms for people claiming weather http://t.co/Flcnnn2USD</td>\n",
       "    </tr>\n",
       "    <tr>\n",
       "      <th>8454</th>\n",
       "      <td>neutral</td>\n",
       "      <td>@JetBlue Can you do me a huge favor?!🙏❤️</td>\n",
       "    </tr>\n",
       "    <tr>\n",
       "      <th>10121</th>\n",
       "      <td>negative</td>\n",
       "      <td>@USAirways Thanks for Cancelled Flighting my flight tomorrow and not reFlight Booking Problems me on another one. #usairwaysfail</td>\n",
       "    </tr>\n",
       "    <tr>\n",
       "      <th>262</th>\n",
       "      <td>negative</td>\n",
       "      <td>@VirginAmerica #wtf I paid for direct flight on purpose not to have to stop for fuel exhausted frequent flier and nothing for inconvenience!</td>\n",
       "    </tr>\n",
       "    <tr>\n",
       "      <th>12951</th>\n",
       "      <td>negative</td>\n",
       "      <td>@AmericanAir I paid using Paypal online and after I was charged there was a \"System Error\" which is what I ended up calling about.</td>\n",
       "    </tr>\n",
       "    <tr>\n",
       "      <th>7117</th>\n",
       "      <td>neutral</td>\n",
       "      <td>❤️❤️❤️“@JetBlue: Our fleet's on fleek. http://t.co/UHUmAskLdv”</td>\n",
       "    </tr>\n",
       "    <tr>\n",
       "      <th>6282</th>\n",
       "      <td>neutral</td>\n",
       "      <td>@SouthwestAir @love_dragonss LAUREN HoLY SHT</td>\n",
       "    </tr>\n",
       "    <tr>\n",
       "      <th>1086</th>\n",
       "      <td>positive</td>\n",
       "      <td>@united great to hear Thankyou so much. Greatly appreciate your replies. Feel much more settled now.</td>\n",
       "    </tr>\n",
       "  </tbody>\n",
       "</table>\n",
       "</div>"
      ],
      "text/plain": [
       "      airline_sentiment                                                                                                                                                         text\n",
       "8919   neutral           @JetBlue how do I get a copy of my last flight showing original time and delay? I need it for work. Thanks!                                                \n",
       "5812   negative          @SouthwestAir Weather seriously cannot even be the only excuse at this point because it was awful service in the summer too. Over it.                      \n",
       "2091   negative          @united more people stranded cause you suck. Better yet, you weasel out of Flight Booking Problems rooms for people claiming weather http://t.co/Flcnnn2USD\n",
       "8454   neutral           @JetBlue Can you do me a huge favor?!🙏❤️                                                                                                                   \n",
       "10121  negative          @USAirways Thanks for Cancelled Flighting my flight tomorrow and not reFlight Booking Problems me on another one. #usairwaysfail                           \n",
       "262    negative          @VirginAmerica #wtf I paid for direct flight on purpose not to have to stop for fuel exhausted frequent flier and nothing for inconvenience!               \n",
       "12951  negative          @AmericanAir I paid using Paypal online and after I was charged there was a \"System Error\" which is what I ended up calling about.                         \n",
       "7117   neutral           ❤️❤️❤️“@JetBlue: Our fleet's on fleek. http://t.co/UHUmAskLdv”                                                                                             \n",
       "6282   neutral           @SouthwestAir @love_dragonss LAUREN HoLY SHT                                                                                                               \n",
       "1086   positive          @united great to hear Thankyou so much. Greatly appreciate your replies. Feel much more settled now.                                                       "
      ]
     },
     "execution_count": 57,
     "metadata": {
      "tags": []
     },
     "output_type": "execute_result"
    }
   ],
   "source": [
    "df = df_full[['airline_sentiment', 'text']]\n",
    "df.sample(10)"
   ]
  },
  {
   "cell_type": "markdown",
   "metadata": {},
   "source": [
    "### Checking NULL values"
   ]
  },
  {
   "cell_type": "code",
   "execution_count": 58,
   "metadata": {
    "colab": {
     "base_uri": "https://localhost:8080/",
     "height": 70
    },
    "colab_type": "code",
    "id": "Acxs8P1VUe24",
    "outputId": "16d341aa-7f50-4756-e488-032b72ed7624"
   },
   "outputs": [
    {
     "data": {
      "text/plain": [
       "airline_sentiment    0\n",
       "text                 0\n",
       "dtype: int64"
      ]
     },
     "execution_count": 58,
     "metadata": {
      "tags": []
     },
     "output_type": "execute_result"
    }
   ],
   "source": [
    "df[['airline_sentiment', 'text']].isna().sum()"
   ]
  },
  {
   "cell_type": "code",
   "execution_count": 59,
   "metadata": {
    "colab": {
     "base_uri": "https://localhost:8080/",
     "height": 87
    },
    "colab_type": "code",
    "id": "qtHaAzJMUk8w",
    "outputId": "10de07cb-a732-403f-ae14-0cd64bd7979b"
   },
   "outputs": [
    {
     "data": {
      "text/plain": [
       "negative    9178\n",
       "neutral     3099\n",
       "positive    2363\n",
       "Name: airline_sentiment, dtype: int64"
      ]
     },
     "execution_count": 59,
     "metadata": {
      "tags": []
     },
     "output_type": "execute_result"
    }
   ],
   "source": [
    "df['airline_sentiment'].value_counts()"
   ]
  },
  {
   "cell_type": "code",
   "execution_count": 60,
   "metadata": {
    "colab": {
     "base_uri": "https://localhost:8080/",
     "height": 87
    },
    "colab_type": "code",
    "id": "BVEp8OwpUnHP",
    "outputId": "6923bd5f-f396-4470-fcf9-c320e4825a5e"
   },
   "outputs": [
    {
     "data": {
      "text/plain": [
       "negative    0.626913\n",
       "neutral     0.211680\n",
       "positive    0.161407\n",
       "Name: airline_sentiment, dtype: float64"
      ]
     },
     "execution_count": 60,
     "metadata": {
      "tags": []
     },
     "output_type": "execute_result"
    }
   ],
   "source": [
    "df['airline_sentiment'].value_counts(normalize=True)"
   ]
  },
  {
   "cell_type": "markdown",
   "metadata": {},
   "source": [
    "## Relationship between Airline and Sentiments"
   ]
  },
  {
   "cell_type": "code",
   "execution_count": 61,
   "metadata": {
    "colab": {
     "base_uri": "https://localhost:8080/",
     "height": 297
    },
    "colab_type": "code",
    "id": "KFKjRsUSUrqm",
    "outputId": "f1d25089-8620-4c50-d272-2851142d9b6e"
   },
   "outputs": [
    {
     "data": {
      "text/plain": [
       "<matplotlib.axes._subplots.AxesSubplot at 0x7f6ff44054a8>"
      ]
     },
     "execution_count": 61,
     "metadata": {
      "tags": []
     },
     "output_type": "execute_result"
    },
    {
     "data": {
      "image/png": "[encoded data removed]",
      "text/plain": [
       "<Figure size 432x288 with 1 Axes>"
      ]
     },
     "metadata": {
      "tags": []
     },
     "output_type": "display_data"
    }
   ],
   "source": [
    "sns.countplot(y='airline', hue='airline_sentiment', data=df_full)"
   ]
  },
  {
   "cell_type": "markdown",
   "metadata": {},
   "source": [
    "### Converting to Lowercase"
   ]
  },
  {
   "cell_type": "code",
   "execution_count": 62,
   "metadata": {
    "colab": {
     "base_uri": "https://localhost:8080/",
     "height": 246
    },
    "colab_type": "code",
    "id": "CvQOrdlLUutR",
    "outputId": "69ed8fe0-1353-4fec-e735-e9d4d9ab1f4e"
   },
   "outputs": [
    {
     "data": {
      "text/html": [
       "<div>\n",
       "<style scoped>\n",
       "    .dataframe tbody tr th:only-of-type {\n",
       "        vertical-align: middle;\n",
       "    }\n",
       "\n",
       "    .dataframe tbody tr th {\n",
       "        vertical-align: top;\n",
       "    }\n",
       "\n",
       "    .dataframe thead th {\n",
       "        text-align: right;\n",
       "    }\n",
       "</style>\n",
       "<table border=\"1\" class=\"dataframe\">\n",
       "  <thead>\n",
       "    <tr style=\"text-align: right;\">\n",
       "      <th></th>\n",
       "      <th>airline_sentiment</th>\n",
       "      <th>text</th>\n",
       "      <th>text_lower</th>\n",
       "    </tr>\n",
       "  </thead>\n",
       "  <tbody>\n",
       "    <tr>\n",
       "      <th>0</th>\n",
       "      <td>neutral</td>\n",
       "      <td>@VirginAmerica What @dhepburn said.</td>\n",
       "      <td>@virginamerica what @dhepburn said.</td>\n",
       "    </tr>\n",
       "    <tr>\n",
       "      <th>1</th>\n",
       "      <td>positive</td>\n",
       "      <td>@VirginAmerica plus you've added commercials to the experience... tacky.</td>\n",
       "      <td>@virginamerica plus you've added commercials to the experience... tacky.</td>\n",
       "    </tr>\n",
       "    <tr>\n",
       "      <th>2</th>\n",
       "      <td>neutral</td>\n",
       "      <td>@VirginAmerica I didn't today... Must mean I need to take another trip!</td>\n",
       "      <td>@virginamerica i didn't today... must mean i need to take another trip!</td>\n",
       "    </tr>\n",
       "    <tr>\n",
       "      <th>3</th>\n",
       "      <td>negative</td>\n",
       "      <td>@VirginAmerica it's really aggressive to blast obnoxious \"entertainment\" in your guests' faces &amp;amp; they have little recourse</td>\n",
       "      <td>@virginamerica it's really aggressive to blast obnoxious \"entertainment\" in your guests' faces &amp;amp; they have little recourse</td>\n",
       "    </tr>\n",
       "    <tr>\n",
       "      <th>4</th>\n",
       "      <td>negative</td>\n",
       "      <td>@VirginAmerica and it's a really big bad thing about it</td>\n",
       "      <td>@virginamerica and it's a really big bad thing about it</td>\n",
       "    </tr>\n",
       "  </tbody>\n",
       "</table>\n",
       "</div>"
      ],
      "text/plain": [
       "  airline_sentiment  ...                                                                                                                      text_lower\n",
       "0  neutral           ...  @virginamerica what @dhepburn said.                                                                                           \n",
       "1  positive          ...  @virginamerica plus you've added commercials to the experience... tacky.                                                      \n",
       "2  neutral           ...  @virginamerica i didn't today... must mean i need to take another trip!                                                       \n",
       "3  negative          ...  @virginamerica it's really aggressive to blast obnoxious \"entertainment\" in your guests' faces &amp; they have little recourse\n",
       "4  negative          ...  @virginamerica and it's a really big bad thing about it                                                                       \n",
       "\n",
       "[5 rows x 3 columns]"
      ]
     },
     "execution_count": 62,
     "metadata": {
      "tags": []
     },
     "output_type": "execute_result"
    }
   ],
   "source": [
    "df[\"text_lower\"] = df[\"text\"].str.lower()\n",
    "df.head()"
   ]
  },
  {
   "cell_type": "markdown",
   "metadata": {},
   "source": [
    "### Importing Libaries"
   ]
  },
  {
   "cell_type": "code",
   "execution_count": 0,
   "metadata": {
    "colab": {},
    "colab_type": "code",
    "id": "mZdRN3tVVVsR"
   },
   "outputs": [],
   "source": [
    "import pandas as pd\n",
    "import re\n",
    "import nltk\n",
    "import spacy\n",
    "import string\n",
    "pd.options.mode.chained_assignment = None"
   ]
  },
  {
   "cell_type": "markdown",
   "metadata": {},
   "source": [
    "### Removal of String Punctuation"
   ]
  },
  {
   "cell_type": "markdown",
   "metadata": {},
   "source": [
    "This is again a text standardization process that will help to treat 'chirag' and 'chirag!' in the same way.\n",
    "We also need to carefully choose the list of punctuations to exclude depending on the use case. For\n",
    "example, the string.punctuation in python contains the following punctuation symbols\n",
    "!\"#$%&\\'()*+,-./:;<=>?@[\\\\]^_ {|}~`\n",
    "We can add or remove more punctuations as per our need."
   ]
  },
  {
   "cell_type": "code",
   "execution_count": 64,
   "metadata": {
    "colab": {
     "base_uri": "https://localhost:8080/",
     "height": 279
    },
    "colab_type": "code",
    "id": "fUZtuu32Vdkt",
    "outputId": "e7570a16-ddb0-4bc3-e314-ed6b94c0e093"
   },
   "outputs": [
    {
     "data": {
      "text/html": [
       "<div>\n",
       "<style scoped>\n",
       "    .dataframe tbody tr th:only-of-type {\n",
       "        vertical-align: middle;\n",
       "    }\n",
       "\n",
       "    .dataframe tbody tr th {\n",
       "        vertical-align: top;\n",
       "    }\n",
       "\n",
       "    .dataframe thead th {\n",
       "        text-align: right;\n",
       "    }\n",
       "</style>\n",
       "<table border=\"1\" class=\"dataframe\">\n",
       "  <thead>\n",
       "    <tr style=\"text-align: right;\">\n",
       "      <th></th>\n",
       "      <th>airline_sentiment</th>\n",
       "      <th>text</th>\n",
       "      <th>text_lower</th>\n",
       "      <th>text_wo_punct</th>\n",
       "    </tr>\n",
       "  </thead>\n",
       "  <tbody>\n",
       "    <tr>\n",
       "      <th>0</th>\n",
       "      <td>neutral</td>\n",
       "      <td>@VirginAmerica What @dhepburn said.</td>\n",
       "      <td>@virginamerica what @dhepburn said.</td>\n",
       "      <td>virginamerica what dhepburn said</td>\n",
       "    </tr>\n",
       "    <tr>\n",
       "      <th>1</th>\n",
       "      <td>positive</td>\n",
       "      <td>@VirginAmerica plus you've added commercials to the experience... tacky.</td>\n",
       "      <td>@virginamerica plus you've added commercials to the experience... tacky.</td>\n",
       "      <td>virginamerica plus youve added commercials to the experience tacky</td>\n",
       "    </tr>\n",
       "    <tr>\n",
       "      <th>2</th>\n",
       "      <td>neutral</td>\n",
       "      <td>@VirginAmerica I didn't today... Must mean I need to take another trip!</td>\n",
       "      <td>@virginamerica i didn't today... must mean i need to take another trip!</td>\n",
       "      <td>virginamerica i didnt today must mean i need to take another trip</td>\n",
       "    </tr>\n",
       "    <tr>\n",
       "      <th>3</th>\n",
       "      <td>negative</td>\n",
       "      <td>@VirginAmerica it's really aggressive to blast obnoxious \"entertainment\" in your guests' faces &amp;amp; they have little recourse</td>\n",
       "      <td>@virginamerica it's really aggressive to blast obnoxious \"entertainment\" in your guests' faces &amp;amp; they have little recourse</td>\n",
       "      <td>virginamerica its really aggressive to blast obnoxious entertainment in your guests faces amp they have little recourse</td>\n",
       "    </tr>\n",
       "    <tr>\n",
       "      <th>4</th>\n",
       "      <td>negative</td>\n",
       "      <td>@VirginAmerica and it's a really big bad thing about it</td>\n",
       "      <td>@virginamerica and it's a really big bad thing about it</td>\n",
       "      <td>virginamerica and its a really big bad thing about it</td>\n",
       "    </tr>\n",
       "  </tbody>\n",
       "</table>\n",
       "</div>"
      ],
      "text/plain": [
       "  airline_sentiment  ...                                                                                                            text_wo_punct\n",
       "0  neutral           ...  virginamerica what dhepburn said                                                                                       \n",
       "1  positive          ...  virginamerica plus youve added commercials to the experience tacky                                                     \n",
       "2  neutral           ...  virginamerica i didnt today must mean i need to take another trip                                                      \n",
       "3  negative          ...  virginamerica its really aggressive to blast obnoxious entertainment in your guests faces amp they have little recourse\n",
       "4  negative          ...  virginamerica and its a really big bad thing about it                                                                  \n",
       "\n",
       "[5 rows x 4 columns]"
      ]
     },
     "execution_count": 64,
     "metadata": {
      "tags": []
     },
     "output_type": "execute_result"
    }
   ],
   "source": [
    "PUNCT_TO_REMOVE = string.punctuation\n",
    "def remove_punctuation(text):\n",
    "    \"\"\"custom function to remove the punctuation\"\"\"\n",
    "    return text.translate(str.maketrans('', '', PUNCT_TO_REMOVE))\n",
    "\n",
    "df[\"text_wo_punct\"] = df[\"text_lower\"].apply(lambda text: remove_punctuation(text))\n",
    "df.head()"
   ]
  },
  {
   "cell_type": "code",
   "execution_count": 65,
   "metadata": {
    "colab": {
     "base_uri": "https://localhost:8080/",
     "height": 34
    },
    "colab_type": "code",
    "id": "KpMkgOSAVf_y",
    "outputId": "b57371ed-f9e2-4c59-ed58-d7a85de797e9"
   },
   "outputs": [
    {
     "data": {
      "text/plain": [
       "Index(['airline_sentiment', 'text', 'text_lower', 'text_wo_punct'], dtype='object')"
      ]
     },
     "execution_count": 65,
     "metadata": {
      "tags": []
     },
     "output_type": "execute_result"
    }
   ],
   "source": [
    "df.columns"
   ]
  },
  {
   "cell_type": "code",
   "execution_count": 66,
   "metadata": {
    "colab": {
     "base_uri": "https://localhost:8080/",
     "height": 279
    },
    "colab_type": "code",
    "id": "2r1ASgzToKWB",
    "outputId": "d0244dbd-d262-4ad9-9f34-dc7a3b477c70"
   },
   "outputs": [
    {
     "data": {
      "text/html": [
       "<div>\n",
       "<style scoped>\n",
       "    .dataframe tbody tr th:only-of-type {\n",
       "        vertical-align: middle;\n",
       "    }\n",
       "\n",
       "    .dataframe tbody tr th {\n",
       "        vertical-align: top;\n",
       "    }\n",
       "\n",
       "    .dataframe thead th {\n",
       "        text-align: right;\n",
       "    }\n",
       "</style>\n",
       "<table border=\"1\" class=\"dataframe\">\n",
       "  <thead>\n",
       "    <tr style=\"text-align: right;\">\n",
       "      <th></th>\n",
       "      <th>airline_sentiment</th>\n",
       "      <th>text</th>\n",
       "      <th>text_lower</th>\n",
       "      <th>text_wo_punct</th>\n",
       "    </tr>\n",
       "  </thead>\n",
       "  <tbody>\n",
       "    <tr>\n",
       "      <th>0</th>\n",
       "      <td>neutral</td>\n",
       "      <td>@VirginAmerica What @dhepburn said.</td>\n",
       "      <td>@virginamerica what @dhepburn said.</td>\n",
       "      <td>virginamerica what dhepburn said</td>\n",
       "    </tr>\n",
       "    <tr>\n",
       "      <th>1</th>\n",
       "      <td>positive</td>\n",
       "      <td>@VirginAmerica plus you've added commercials to the experience... tacky.</td>\n",
       "      <td>@virginamerica plus you've added commercials to the experience... tacky.</td>\n",
       "      <td>virginamerica plus youve added commercials to the experience tacky</td>\n",
       "    </tr>\n",
       "    <tr>\n",
       "      <th>2</th>\n",
       "      <td>neutral</td>\n",
       "      <td>@VirginAmerica I didn't today... Must mean I need to take another trip!</td>\n",
       "      <td>@virginamerica i didn't today... must mean i need to take another trip!</td>\n",
       "      <td>virginamerica i didnt today must mean i need to take another trip</td>\n",
       "    </tr>\n",
       "    <tr>\n",
       "      <th>3</th>\n",
       "      <td>negative</td>\n",
       "      <td>@VirginAmerica it's really aggressive to blast obnoxious \"entertainment\" in your guests' faces &amp;amp; they have little recourse</td>\n",
       "      <td>@virginamerica it's really aggressive to blast obnoxious \"entertainment\" in your guests' faces &amp;amp; they have little recourse</td>\n",
       "      <td>virginamerica its really aggressive to blast obnoxious entertainment in your guests faces amp they have little recourse</td>\n",
       "    </tr>\n",
       "    <tr>\n",
       "      <th>4</th>\n",
       "      <td>negative</td>\n",
       "      <td>@VirginAmerica and it's a really big bad thing about it</td>\n",
       "      <td>@virginamerica and it's a really big bad thing about it</td>\n",
       "      <td>virginamerica and its a really big bad thing about it</td>\n",
       "    </tr>\n",
       "  </tbody>\n",
       "</table>\n",
       "</div>"
      ],
      "text/plain": [
       "  airline_sentiment  ...                                                                                                            text_wo_punct\n",
       "0  neutral           ...  virginamerica what dhepburn said                                                                                       \n",
       "1  positive          ...  virginamerica plus youve added commercials to the experience tacky                                                     \n",
       "2  neutral           ...  virginamerica i didnt today must mean i need to take another trip                                                      \n",
       "3  negative          ...  virginamerica its really aggressive to blast obnoxious entertainment in your guests faces amp they have little recourse\n",
       "4  negative          ...  virginamerica and its a really big bad thing about it                                                                  \n",
       "\n",
       "[5 rows x 4 columns]"
      ]
     },
     "execution_count": 66,
     "metadata": {
      "tags": []
     },
     "output_type": "execute_result"
    }
   ],
   "source": [
    "df.head()"
   ]
  },
  {
   "cell_type": "markdown",
   "metadata": {},
   "source": [
    "### Removal of Frequent Words"
   ]
  },
  {
   "cell_type": "code",
   "execution_count": 67,
   "metadata": {
    "colab": {
     "base_uri": "https://localhost:8080/",
     "height": 193
    },
    "colab_type": "code",
    "id": "Jr7HVgZBoxG5",
    "outputId": "081d0a10-9aa1-43d5-9997-cab227b8667d"
   },
   "outputs": [
    {
     "data": {
      "text/plain": [
       "[('to', 8640),\n",
       " ('the', 6050),\n",
       " ('i', 5372),\n",
       " ('a', 4476),\n",
       " ('united', 4117),\n",
       " ('you', 4105),\n",
       " ('for', 3991),\n",
       " ('flight', 3870),\n",
       " ('on', 3778),\n",
       " ('and', 3709)]"
      ]
     },
     "execution_count": 67,
     "metadata": {
      "tags": []
     },
     "output_type": "execute_result"
    }
   ],
   "source": [
    "from collections import Counter\n",
    "cnt = Counter()\n",
    "for text in df[\"text_wo_punct\"].values:\n",
    "    for word in text.split():\n",
    "        cnt[word] += 1\n",
    "        \n",
    "cnt.most_common(10)"
   ]
  },
  {
   "cell_type": "code",
   "execution_count": 68,
   "metadata": {
    "colab": {
     "base_uri": "https://localhost:8080/",
     "height": 279
    },
    "colab_type": "code",
    "id": "V9PNN5DHo8vh",
    "outputId": "07ba577b-e06a-4bc2-fbd3-a20bdcaf9cb9"
   },
   "outputs": [
    {
     "data": {
      "text/html": [
       "<div>\n",
       "<style scoped>\n",
       "    .dataframe tbody tr th:only-of-type {\n",
       "        vertical-align: middle;\n",
       "    }\n",
       "\n",
       "    .dataframe tbody tr th {\n",
       "        vertical-align: top;\n",
       "    }\n",
       "\n",
       "    .dataframe thead th {\n",
       "        text-align: right;\n",
       "    }\n",
       "</style>\n",
       "<table border=\"1\" class=\"dataframe\">\n",
       "  <thead>\n",
       "    <tr style=\"text-align: right;\">\n",
       "      <th></th>\n",
       "      <th>airline_sentiment</th>\n",
       "      <th>text</th>\n",
       "      <th>text_lower</th>\n",
       "      <th>text_wo_punct</th>\n",
       "    </tr>\n",
       "  </thead>\n",
       "  <tbody>\n",
       "    <tr>\n",
       "      <th>0</th>\n",
       "      <td>neutral</td>\n",
       "      <td>@VirginAmerica What @dhepburn said.</td>\n",
       "      <td>@virginamerica what @dhepburn said.</td>\n",
       "      <td>virginamerica what dhepburn said</td>\n",
       "    </tr>\n",
       "    <tr>\n",
       "      <th>1</th>\n",
       "      <td>positive</td>\n",
       "      <td>@VirginAmerica plus you've added commercials to the experience... tacky.</td>\n",
       "      <td>@virginamerica plus you've added commercials to the experience... tacky.</td>\n",
       "      <td>virginamerica plus youve added commercials to the experience tacky</td>\n",
       "    </tr>\n",
       "    <tr>\n",
       "      <th>2</th>\n",
       "      <td>neutral</td>\n",
       "      <td>@VirginAmerica I didn't today... Must mean I need to take another trip!</td>\n",
       "      <td>@virginamerica i didn't today... must mean i need to take another trip!</td>\n",
       "      <td>virginamerica i didnt today must mean i need to take another trip</td>\n",
       "    </tr>\n",
       "    <tr>\n",
       "      <th>3</th>\n",
       "      <td>negative</td>\n",
       "      <td>@VirginAmerica it's really aggressive to blast obnoxious \"entertainment\" in your guests' faces &amp;amp; they have little recourse</td>\n",
       "      <td>@virginamerica it's really aggressive to blast obnoxious \"entertainment\" in your guests' faces &amp;amp; they have little recourse</td>\n",
       "      <td>virginamerica its really aggressive to blast obnoxious entertainment in your guests faces amp they have little recourse</td>\n",
       "    </tr>\n",
       "    <tr>\n",
       "      <th>4</th>\n",
       "      <td>negative</td>\n",
       "      <td>@VirginAmerica and it's a really big bad thing about it</td>\n",
       "      <td>@virginamerica and it's a really big bad thing about it</td>\n",
       "      <td>virginamerica and its a really big bad thing about it</td>\n",
       "    </tr>\n",
       "  </tbody>\n",
       "</table>\n",
       "</div>"
      ],
      "text/plain": [
       "  airline_sentiment  ...                                                                                                            text_wo_punct\n",
       "0  neutral           ...  virginamerica what dhepburn said                                                                                       \n",
       "1  positive          ...  virginamerica plus youve added commercials to the experience tacky                                                     \n",
       "2  neutral           ...  virginamerica i didnt today must mean i need to take another trip                                                      \n",
       "3  negative          ...  virginamerica its really aggressive to blast obnoxious entertainment in your guests faces amp they have little recourse\n",
       "4  negative          ...  virginamerica and its a really big bad thing about it                                                                  \n",
       "\n",
       "[5 rows x 4 columns]"
      ]
     },
     "execution_count": 68,
     "metadata": {
      "tags": []
     },
     "output_type": "execute_result"
    }
   ],
   "source": [
    "df.head()"
   ]
  },
  {
   "cell_type": "code",
   "execution_count": 69,
   "metadata": {
    "colab": {
     "base_uri": "https://localhost:8080/",
     "height": 363
    },
    "colab_type": "code",
    "id": "LzYAzOeuo_N6",
    "outputId": "d5b20cac-09c0-46dc-cdd2-a01e3c19dda6"
   },
   "outputs": [
    {
     "data": {
      "text/html": [
       "<div>\n",
       "<style scoped>\n",
       "    .dataframe tbody tr th:only-of-type {\n",
       "        vertical-align: middle;\n",
       "    }\n",
       "\n",
       "    .dataframe tbody tr th {\n",
       "        vertical-align: top;\n",
       "    }\n",
       "\n",
       "    .dataframe thead th {\n",
       "        text-align: right;\n",
       "    }\n",
       "</style>\n",
       "<table border=\"1\" class=\"dataframe\">\n",
       "  <thead>\n",
       "    <tr style=\"text-align: right;\">\n",
       "      <th></th>\n",
       "      <th>airline_sentiment</th>\n",
       "      <th>text</th>\n",
       "      <th>text_lower</th>\n",
       "      <th>text_wo_punct</th>\n",
       "      <th>text_wo_stopfreq</th>\n",
       "    </tr>\n",
       "  </thead>\n",
       "  <tbody>\n",
       "    <tr>\n",
       "      <th>0</th>\n",
       "      <td>neutral</td>\n",
       "      <td>@VirginAmerica What @dhepburn said.</td>\n",
       "      <td>@virginamerica what @dhepburn said.</td>\n",
       "      <td>virginamerica what dhepburn said</td>\n",
       "      <td>virginamerica what dhepburn said</td>\n",
       "    </tr>\n",
       "    <tr>\n",
       "      <th>1</th>\n",
       "      <td>positive</td>\n",
       "      <td>@VirginAmerica plus you've added commercials to the experience... tacky.</td>\n",
       "      <td>@virginamerica plus you've added commercials to the experience... tacky.</td>\n",
       "      <td>virginamerica plus youve added commercials to the experience tacky</td>\n",
       "      <td>virginamerica plus youve added commercials experience tacky</td>\n",
       "    </tr>\n",
       "    <tr>\n",
       "      <th>2</th>\n",
       "      <td>neutral</td>\n",
       "      <td>@VirginAmerica I didn't today... Must mean I need to take another trip!</td>\n",
       "      <td>@virginamerica i didn't today... must mean i need to take another trip!</td>\n",
       "      <td>virginamerica i didnt today must mean i need to take another trip</td>\n",
       "      <td>virginamerica didnt today must mean need take another trip</td>\n",
       "    </tr>\n",
       "    <tr>\n",
       "      <th>3</th>\n",
       "      <td>negative</td>\n",
       "      <td>@VirginAmerica it's really aggressive to blast obnoxious \"entertainment\" in your guests' faces &amp;amp; they have little recourse</td>\n",
       "      <td>@virginamerica it's really aggressive to blast obnoxious \"entertainment\" in your guests' faces &amp;amp; they have little recourse</td>\n",
       "      <td>virginamerica its really aggressive to blast obnoxious entertainment in your guests faces amp they have little recourse</td>\n",
       "      <td>virginamerica its really aggressive blast obnoxious entertainment in your guests faces amp they have little recourse</td>\n",
       "    </tr>\n",
       "    <tr>\n",
       "      <th>4</th>\n",
       "      <td>negative</td>\n",
       "      <td>@VirginAmerica and it's a really big bad thing about it</td>\n",
       "      <td>@virginamerica and it's a really big bad thing about it</td>\n",
       "      <td>virginamerica and its a really big bad thing about it</td>\n",
       "      <td>virginamerica and its really big bad thing about it</td>\n",
       "    </tr>\n",
       "  </tbody>\n",
       "</table>\n",
       "</div>"
      ],
      "text/plain": [
       "  airline_sentiment  ...                                                                                                      text_wo_stopfreq\n",
       "0  neutral           ...  virginamerica what dhepburn said                                                                                    \n",
       "1  positive          ...  virginamerica plus youve added commercials experience tacky                                                         \n",
       "2  neutral           ...  virginamerica didnt today must mean need take another trip                                                          \n",
       "3  negative          ...  virginamerica its really aggressive blast obnoxious entertainment in your guests faces amp they have little recourse\n",
       "4  negative          ...  virginamerica and its really big bad thing about it                                                                 \n",
       "\n",
       "[5 rows x 5 columns]"
      ]
     },
     "execution_count": 69,
     "metadata": {
      "tags": []
     },
     "output_type": "execute_result"
    }
   ],
   "source": [
    "FREQWORDS = set([w for (w, wc) in cnt.most_common(6)])\n",
    "def remove_freqwords(text):\n",
    "    \"\"\"custom function to remove the frequent words\"\"\"\n",
    "    return \" \".join([word for word in str(text).split() if word not in FREQWORDS])\n",
    "\n",
    "df[\"text_wo_stopfreq\"] = df[\"text_wo_punct\"].apply(lambda text: remove_freqwords(text))\n",
    "df.head()"
   ]
  },
  {
   "cell_type": "markdown",
   "metadata": {},
   "source": [
    "### Removal of Rare words"
   ]
  },
  {
   "cell_type": "code",
   "execution_count": 70,
   "metadata": {
    "colab": {
     "base_uri": "https://localhost:8080/",
     "height": 363
    },
    "colab_type": "code",
    "id": "zGfOc4J7oXxQ",
    "outputId": "46ccda01-679d-4112-a984-3a2d64c176a9"
   },
   "outputs": [
    {
     "data": {
      "text/html": [
       "<div>\n",
       "<style scoped>\n",
       "    .dataframe tbody tr th:only-of-type {\n",
       "        vertical-align: middle;\n",
       "    }\n",
       "\n",
       "    .dataframe tbody tr th {\n",
       "        vertical-align: top;\n",
       "    }\n",
       "\n",
       "    .dataframe thead th {\n",
       "        text-align: right;\n",
       "    }\n",
       "</style>\n",
       "<table border=\"1\" class=\"dataframe\">\n",
       "  <thead>\n",
       "    <tr style=\"text-align: right;\">\n",
       "      <th></th>\n",
       "      <th>airline_sentiment</th>\n",
       "      <th>text</th>\n",
       "      <th>text_lower</th>\n",
       "      <th>text_wo_stopfreq</th>\n",
       "      <th>text_wo_freqrare</th>\n",
       "    </tr>\n",
       "  </thead>\n",
       "  <tbody>\n",
       "    <tr>\n",
       "      <th>0</th>\n",
       "      <td>neutral</td>\n",
       "      <td>@VirginAmerica What @dhepburn said.</td>\n",
       "      <td>@virginamerica what @dhepburn said.</td>\n",
       "      <td>virginamerica what dhepburn said</td>\n",
       "      <td>virginamerica what dhepburn said</td>\n",
       "    </tr>\n",
       "    <tr>\n",
       "      <th>1</th>\n",
       "      <td>positive</td>\n",
       "      <td>@VirginAmerica plus you've added commercials to the experience... tacky.</td>\n",
       "      <td>@virginamerica plus you've added commercials to the experience... tacky.</td>\n",
       "      <td>virginamerica plus youve added commercials experience tacky</td>\n",
       "      <td>virginamerica plus youve added commercials experience tacky</td>\n",
       "    </tr>\n",
       "    <tr>\n",
       "      <th>2</th>\n",
       "      <td>neutral</td>\n",
       "      <td>@VirginAmerica I didn't today... Must mean I need to take another trip!</td>\n",
       "      <td>@virginamerica i didn't today... must mean i need to take another trip!</td>\n",
       "      <td>virginamerica didnt today must mean need take another trip</td>\n",
       "      <td>virginamerica didnt today must mean need take another trip</td>\n",
       "    </tr>\n",
       "    <tr>\n",
       "      <th>3</th>\n",
       "      <td>negative</td>\n",
       "      <td>@VirginAmerica it's really aggressive to blast obnoxious \"entertainment\" in your guests' faces &amp;amp; they have little recourse</td>\n",
       "      <td>@virginamerica it's really aggressive to blast obnoxious \"entertainment\" in your guests' faces &amp;amp; they have little recourse</td>\n",
       "      <td>virginamerica its really aggressive blast obnoxious entertainment in your guests faces amp they have little recourse</td>\n",
       "      <td>virginamerica its really aggressive blast obnoxious entertainment in your guests faces amp they have little recourse</td>\n",
       "    </tr>\n",
       "    <tr>\n",
       "      <th>4</th>\n",
       "      <td>negative</td>\n",
       "      <td>@VirginAmerica and it's a really big bad thing about it</td>\n",
       "      <td>@virginamerica and it's a really big bad thing about it</td>\n",
       "      <td>virginamerica and its really big bad thing about it</td>\n",
       "      <td>virginamerica and its really big bad thing about it</td>\n",
       "    </tr>\n",
       "  </tbody>\n",
       "</table>\n",
       "</div>"
      ],
      "text/plain": [
       "  airline_sentiment  ...                                                                                                      text_wo_freqrare\n",
       "0  neutral           ...  virginamerica what dhepburn said                                                                                    \n",
       "1  positive          ...  virginamerica plus youve added commercials experience tacky                                                         \n",
       "2  neutral           ...  virginamerica didnt today must mean need take another trip                                                          \n",
       "3  negative          ...  virginamerica its really aggressive blast obnoxious entertainment in your guests faces amp they have little recourse\n",
       "4  negative          ...  virginamerica and its really big bad thing about it                                                                 \n",
       "\n",
       "[5 rows x 5 columns]"
      ]
     },
     "execution_count": 70,
     "metadata": {
      "tags": []
     },
     "output_type": "execute_result"
    }
   ],
   "source": [
    "# Drop the two columns which are no more needed \n",
    "df.drop([\"text_wo_punct\"], axis=1, inplace=True)\n",
    "\n",
    "n_rare_words = 100\n",
    "RAREWORDS = set([w for (w, wc) in cnt.most_common()[:-n_rare_words-1:-1]])\n",
    "def remove_rarewords(text):\n",
    "    \"\"\"custom function to remove the rare words\"\"\"\n",
    "    return \" \".join([word for word in str(text).split() if word not in RAREWORDS])\n",
    "\n",
    "df[\"text_wo_freqrare\"] = df[\"text_wo_stopfreq\"].apply(lambda text: remove_rarewords(text))\n",
    "df.head()"
   ]
  },
  {
   "cell_type": "code",
   "execution_count": 71,
   "metadata": {
    "colab": {
     "base_uri": "https://localhost:8080/",
     "height": 70
    },
    "colab_type": "code",
    "id": "6TvJUcp5WubH",
    "outputId": "7f841120-795a-40e2-f5db-2ba5e9ea65aa"
   },
   "outputs": [
    {
     "name": "stdout",
     "output_type": "stream",
     "text": [
      "[nltk_data] Downloading package wordnet to /root/nltk_data...\n",
      "[nltk_data]   Package wordnet is already up-to-date!\n"
     ]
    },
    {
     "data": {
      "text/plain": [
       "True"
      ]
     },
     "execution_count": 71,
     "metadata": {
      "tags": []
     },
     "output_type": "execute_result"
    }
   ],
   "source": [
    "nltk.download('wordnet')"
   ]
  },
  {
   "cell_type": "markdown",
   "metadata": {},
   "source": [
    "## Stemming\n",
    "Stemming is the process of reducing inflected (or sometimes derived) words to their word stem, base or\n",
    "root form.\n",
    "There are several type of stemming algorithms available and one of the famous one is porter stemmer\n",
    "which is widely used. We can use nltk package for the same."
   ]
  },
  {
   "cell_type": "code",
   "execution_count": 72,
   "metadata": {
    "colab": {
     "base_uri": "https://localhost:8080/",
     "height": 380
    },
    "colab_type": "code",
    "id": "8DxiDAf8XDU-",
    "outputId": "6cc6186c-75b1-4a6a-a1d9-86b8fe4f7776"
   },
   "outputs": [
    {
     "data": {
      "text/html": [
       "<div>\n",
       "<style scoped>\n",
       "    .dataframe tbody tr th:only-of-type {\n",
       "        vertical-align: middle;\n",
       "    }\n",
       "\n",
       "    .dataframe tbody tr th {\n",
       "        vertical-align: top;\n",
       "    }\n",
       "\n",
       "    .dataframe thead th {\n",
       "        text-align: right;\n",
       "    }\n",
       "</style>\n",
       "<table border=\"1\" class=\"dataframe\">\n",
       "  <thead>\n",
       "    <tr style=\"text-align: right;\">\n",
       "      <th></th>\n",
       "      <th>airline_sentiment</th>\n",
       "      <th>text</th>\n",
       "      <th>text_lower</th>\n",
       "      <th>text_wo_stopfreq</th>\n",
       "      <th>text_wo_freqrare</th>\n",
       "      <th>text_stemmed</th>\n",
       "    </tr>\n",
       "  </thead>\n",
       "  <tbody>\n",
       "    <tr>\n",
       "      <th>0</th>\n",
       "      <td>neutral</td>\n",
       "      <td>@VirginAmerica What @dhepburn said.</td>\n",
       "      <td>@virginamerica what @dhepburn said.</td>\n",
       "      <td>virginamerica what dhepburn said</td>\n",
       "      <td>virginamerica what dhepburn said</td>\n",
       "      <td>virginamerica what dhepburn said</td>\n",
       "    </tr>\n",
       "    <tr>\n",
       "      <th>1</th>\n",
       "      <td>positive</td>\n",
       "      <td>@VirginAmerica plus you've added commercials to the experience... tacky.</td>\n",
       "      <td>@virginamerica plus you've added commercials to the experience... tacky.</td>\n",
       "      <td>virginamerica plus youve added commercials experience tacky</td>\n",
       "      <td>virginamerica plus youve added commercials experience tacky</td>\n",
       "      <td>virginamerica plu youv ad commerci experi tacki</td>\n",
       "    </tr>\n",
       "    <tr>\n",
       "      <th>2</th>\n",
       "      <td>neutral</td>\n",
       "      <td>@VirginAmerica I didn't today... Must mean I need to take another trip!</td>\n",
       "      <td>@virginamerica i didn't today... must mean i need to take another trip!</td>\n",
       "      <td>virginamerica didnt today must mean need take another trip</td>\n",
       "      <td>virginamerica didnt today must mean need take another trip</td>\n",
       "      <td>virginamerica didnt today must mean need take anoth trip</td>\n",
       "    </tr>\n",
       "    <tr>\n",
       "      <th>3</th>\n",
       "      <td>negative</td>\n",
       "      <td>@VirginAmerica it's really aggressive to blast obnoxious \"entertainment\" in your guests' faces &amp;amp; they have little recourse</td>\n",
       "      <td>@virginamerica it's really aggressive to blast obnoxious \"entertainment\" in your guests' faces &amp;amp; they have little recourse</td>\n",
       "      <td>virginamerica its really aggressive blast obnoxious entertainment in your guests faces amp they have little recourse</td>\n",
       "      <td>virginamerica its really aggressive blast obnoxious entertainment in your guests faces amp they have little recourse</td>\n",
       "      <td>virginamerica it realli aggress blast obnoxi entertain in your guest face amp they have littl recours</td>\n",
       "    </tr>\n",
       "    <tr>\n",
       "      <th>4</th>\n",
       "      <td>negative</td>\n",
       "      <td>@VirginAmerica and it's a really big bad thing about it</td>\n",
       "      <td>@virginamerica and it's a really big bad thing about it</td>\n",
       "      <td>virginamerica and its really big bad thing about it</td>\n",
       "      <td>virginamerica and its really big bad thing about it</td>\n",
       "      <td>virginamerica and it realli big bad thing about it</td>\n",
       "    </tr>\n",
       "  </tbody>\n",
       "</table>\n",
       "</div>"
      ],
      "text/plain": [
       "  airline_sentiment  ...                                                                                           text_stemmed\n",
       "0  neutral           ...  virginamerica what dhepburn said                                                                     \n",
       "1  positive          ...  virginamerica plu youv ad commerci experi tacki                                                      \n",
       "2  neutral           ...  virginamerica didnt today must mean need take anoth trip                                             \n",
       "3  negative          ...  virginamerica it realli aggress blast obnoxi entertain in your guest face amp they have littl recours\n",
       "4  negative          ...  virginamerica and it realli big bad thing about it                                                   \n",
       "\n",
       "[5 rows x 6 columns]"
      ]
     },
     "execution_count": 72,
     "metadata": {
      "tags": []
     },
     "output_type": "execute_result"
    }
   ],
   "source": [
    "from nltk.stem.porter import PorterStemmer\n",
    "\n",
    "stemmer = PorterStemmer()\n",
    "def stem_words(text):\n",
    "    return \" \".join([stemmer.stem(word) for word in text.split()])\n",
    "\n",
    "df[\"text_stemmed\"] = df[\"text_wo_freqrare\"].apply(lambda text: stem_words(text))\n",
    "df.head()"
   ]
  },
  {
   "cell_type": "code",
   "execution_count": 73,
   "metadata": {
    "colab": {
     "base_uri": "https://localhost:8080/",
     "height": 70
    },
    "colab_type": "code",
    "id": "53T1St9uXUtc",
    "outputId": "0f1ddf97-2488-405d-c466-391df3b6593f"
   },
   "outputs": [
    {
     "name": "stdout",
     "output_type": "stream",
     "text": [
      "Word is : stripes\n",
      "Lemma result for verb :  strip\n",
      "Lemma result for noun :  stripe\n"
     ]
    }
   ],
   "source": [
    "print(\"Word is : stripes\")\n",
    "print(\"Lemma result for verb : \",lemmatizer.lemmatize(\"stripes\", 'v'))\n",
    "print(\"Lemma result for noun : \",lemmatizer.lemmatize(\"stripes\", 'n'))"
   ]
  },
  {
   "cell_type": "code",
   "execution_count": 74,
   "metadata": {
    "colab": {
     "base_uri": "https://localhost:8080/",
     "height": 763
    },
    "colab_type": "code",
    "id": "w4GzmJafX7rP",
    "outputId": "649c6efb-05c7-4107-cc34-bfd9193f0944"
   },
   "outputs": [
    {
     "data": {
      "text/html": [
       "<div>\n",
       "<style scoped>\n",
       "    .dataframe tbody tr th:only-of-type {\n",
       "        vertical-align: middle;\n",
       "    }\n",
       "\n",
       "    .dataframe tbody tr th {\n",
       "        vertical-align: top;\n",
       "    }\n",
       "\n",
       "    .dataframe thead th {\n",
       "        text-align: right;\n",
       "    }\n",
       "</style>\n",
       "<table border=\"1\" class=\"dataframe\">\n",
       "  <thead>\n",
       "    <tr style=\"text-align: right;\">\n",
       "      <th></th>\n",
       "      <th>airline_sentiment</th>\n",
       "      <th>text</th>\n",
       "      <th>text_lower</th>\n",
       "      <th>text_wo_stopfreq</th>\n",
       "      <th>text_wo_freqrare</th>\n",
       "      <th>text_stemmed</th>\n",
       "    </tr>\n",
       "  </thead>\n",
       "  <tbody>\n",
       "    <tr>\n",
       "      <th>0</th>\n",
       "      <td>neutral</td>\n",
       "      <td>@VirginAmerica What @dhepburn said.</td>\n",
       "      <td>@virginamerica what @dhepburn said.</td>\n",
       "      <td>virginamerica what dhepburn said</td>\n",
       "      <td>virginamerica what dhepburn said</td>\n",
       "      <td>virginamerica what dhepburn said</td>\n",
       "    </tr>\n",
       "    <tr>\n",
       "      <th>1</th>\n",
       "      <td>positive</td>\n",
       "      <td>@VirginAmerica plus you've added commercials to the experience... tacky.</td>\n",
       "      <td>@virginamerica plus you've added commercials to the experience... tacky.</td>\n",
       "      <td>virginamerica plus youve added commercials experience tacky</td>\n",
       "      <td>virginamerica plus youve added commercials experience tacky</td>\n",
       "      <td>virginamerica plu youv ad commerci experi tacki</td>\n",
       "    </tr>\n",
       "    <tr>\n",
       "      <th>2</th>\n",
       "      <td>neutral</td>\n",
       "      <td>@VirginAmerica I didn't today... Must mean I need to take another trip!</td>\n",
       "      <td>@virginamerica i didn't today... must mean i need to take another trip!</td>\n",
       "      <td>virginamerica didnt today must mean need take another trip</td>\n",
       "      <td>virginamerica didnt today must mean need take another trip</td>\n",
       "      <td>virginamerica didnt today must mean need take anoth trip</td>\n",
       "    </tr>\n",
       "    <tr>\n",
       "      <th>3</th>\n",
       "      <td>negative</td>\n",
       "      <td>@VirginAmerica it's really aggressive to blast obnoxious \"entertainment\" in your guests' faces &amp;amp; they have little recourse</td>\n",
       "      <td>@virginamerica it's really aggressive to blast obnoxious \"entertainment\" in your guests' faces &amp;amp; they have little recourse</td>\n",
       "      <td>virginamerica its really aggressive blast obnoxious entertainment in your guests faces amp they have little recourse</td>\n",
       "      <td>virginamerica its really aggressive blast obnoxious entertainment in your guests faces amp they have little recourse</td>\n",
       "      <td>virginamerica it realli aggress blast obnoxi entertain in your guest face amp they have littl recours</td>\n",
       "    </tr>\n",
       "    <tr>\n",
       "      <th>4</th>\n",
       "      <td>negative</td>\n",
       "      <td>@VirginAmerica and it's a really big bad thing about it</td>\n",
       "      <td>@virginamerica and it's a really big bad thing about it</td>\n",
       "      <td>virginamerica and its really big bad thing about it</td>\n",
       "      <td>virginamerica and its really big bad thing about it</td>\n",
       "      <td>virginamerica and it realli big bad thing about it</td>\n",
       "    </tr>\n",
       "    <tr>\n",
       "      <th>5</th>\n",
       "      <td>negative</td>\n",
       "      <td>@VirginAmerica seriously would pay $30 a flight for seats that didn't have this playing.\\nit's really the only bad thing about flying VA</td>\n",
       "      <td>@virginamerica seriously would pay $30 a flight for seats that didn't have this playing.\\nit's really the only bad thing about flying va</td>\n",
       "      <td>virginamerica seriously would pay 30 flight for seats that didnt have this playing its really only bad thing about flying va</td>\n",
       "      <td>virginamerica seriously would pay 30 flight for seats that didnt have this playing its really only bad thing about flying va</td>\n",
       "      <td>virginamerica serious would pay 30 flight for seat that didnt have thi play it realli onli bad thing about fli va</td>\n",
       "    </tr>\n",
       "    <tr>\n",
       "      <th>6</th>\n",
       "      <td>positive</td>\n",
       "      <td>@VirginAmerica yes, nearly every time I fly VX this “ear worm” won’t go away :)</td>\n",
       "      <td>@virginamerica yes, nearly every time i fly vx this “ear worm” won’t go away :)</td>\n",
       "      <td>virginamerica yes nearly every time fly vx this “ear worm” won’t go away</td>\n",
       "      <td>virginamerica yes nearly every time fly vx this “ear worm” won’t go away</td>\n",
       "      <td>virginamerica ye nearli everi time fli vx thi “ear worm” won’t go away</td>\n",
       "    </tr>\n",
       "    <tr>\n",
       "      <th>7</th>\n",
       "      <td>neutral</td>\n",
       "      <td>@VirginAmerica Really missed a prime opportunity for Men Without Hats parody, there. https://t.co/mWpG7grEZP</td>\n",
       "      <td>@virginamerica really missed a prime opportunity for men without hats parody, there. https://t.co/mwpg7grezp</td>\n",
       "      <td>virginamerica really missed prime opportunity for men without hats parody there httpstcomwpg7grezp</td>\n",
       "      <td>virginamerica really missed prime opportunity for men without hats parody there httpstcomwpg7grezp</td>\n",
       "      <td>virginamerica realli miss prime opportun for men without hat parodi there httpstcomwpg7grezp</td>\n",
       "    </tr>\n",
       "    <tr>\n",
       "      <th>8</th>\n",
       "      <td>positive</td>\n",
       "      <td>@virginamerica Well, I didn't…but NOW I DO! :-D</td>\n",
       "      <td>@virginamerica well, i didn't…but now i do! :-d</td>\n",
       "      <td>virginamerica well didnt…but now do d</td>\n",
       "      <td>virginamerica well didnt…but now do d</td>\n",
       "      <td>virginamerica well didnt…but now do d</td>\n",
       "    </tr>\n",
       "    <tr>\n",
       "      <th>9</th>\n",
       "      <td>positive</td>\n",
       "      <td>@VirginAmerica it was amazing, and arrived an hour early. You're too good to me.</td>\n",
       "      <td>@virginamerica it was amazing, and arrived an hour early. you're too good to me.</td>\n",
       "      <td>virginamerica it was amazing and arrived an hour early youre too good me</td>\n",
       "      <td>virginamerica it was amazing and arrived an hour early youre too good me</td>\n",
       "      <td>virginamerica it wa amaz and arriv an hour earli your too good me</td>\n",
       "    </tr>\n",
       "  </tbody>\n",
       "</table>\n",
       "</div>"
      ],
      "text/plain": [
       "  airline_sentiment  ...                                                                                                       text_stemmed\n",
       "0  neutral           ...  virginamerica what dhepburn said                                                                                 \n",
       "1  positive          ...  virginamerica plu youv ad commerci experi tacki                                                                  \n",
       "2  neutral           ...  virginamerica didnt today must mean need take anoth trip                                                         \n",
       "3  negative          ...  virginamerica it realli aggress blast obnoxi entertain in your guest face amp they have littl recours            \n",
       "4  negative          ...  virginamerica and it realli big bad thing about it                                                               \n",
       "5  negative          ...  virginamerica serious would pay 30 flight for seat that didnt have thi play it realli onli bad thing about fli va\n",
       "6  positive          ...  virginamerica ye nearli everi time fli vx thi “ear worm” won’t go away                                           \n",
       "7  neutral           ...  virginamerica realli miss prime opportun for men without hat parodi there httpstcomwpg7grezp                     \n",
       "8  positive          ...  virginamerica well didnt…but now do d                                                                            \n",
       "9  positive          ...  virginamerica it wa amaz and arriv an hour earli your too good me                                                \n",
       "\n",
       "[10 rows x 6 columns]"
      ]
     },
     "execution_count": 74,
     "metadata": {
      "tags": []
     },
     "output_type": "execute_result"
    }
   ],
   "source": [
    "df.head(10)"
   ]
  },
  {
   "cell_type": "code",
   "execution_count": 75,
   "metadata": {
    "colab": {
     "base_uri": "https://localhost:8080/",
     "height": 105
    },
    "colab_type": "code",
    "id": "7mTNxNUkYPTy",
    "outputId": "e9055798-f2c8-4ab1-9e52-49abdb6daf10"
   },
   "outputs": [
    {
     "name": "stdout",
     "output_type": "stream",
     "text": [
      "[nltk_data] Downloading package averaged_perceptron_tagger to\n",
      "[nltk_data]     /root/nltk_data...\n",
      "[nltk_data]   Package averaged_perceptron_tagger is already up-to-\n",
      "[nltk_data]       date!\n"
     ]
    },
    {
     "data": {
      "text/plain": [
       "True"
      ]
     },
     "execution_count": 75,
     "metadata": {
      "tags": []
     },
     "output_type": "execute_result"
    }
   ],
   "source": [
    "nltk.download('averaged_perceptron_tagger')"
   ]
  },
  {
   "cell_type": "code",
   "execution_count": null,
   "metadata": {},
   "outputs": [],
   "source": [
    "## Lemmatization\n",
    "Lemmatization is similar to stemming in reducing inflected words to their word stem but differs in the way\n",
    "that it makes sure the root word (also called as lemma) belongs to the language.\n",
    "As a result, this one is generally slower than stemming process. So depending on the speed requirement,\n",
    "we can choose to use either stemming or lemmatization.\n",
    "Let us use the WordNetLemmatizer in nltk to lemmatize our sentences"
   ]
  },
  {
   "cell_type": "code",
   "execution_count": 76,
   "metadata": {
    "colab": {
     "base_uri": "https://localhost:8080/",
     "height": 464
    },
    "colab_type": "code",
    "id": "5FAYC0CHX-Gi",
    "outputId": "5b4caaa4-e500-4556-d060-00e1a5d2b5b1"
   },
   "outputs": [
    {
     "data": {
      "text/html": [
       "<div>\n",
       "<style scoped>\n",
       "    .dataframe tbody tr th:only-of-type {\n",
       "        vertical-align: middle;\n",
       "    }\n",
       "\n",
       "    .dataframe tbody tr th {\n",
       "        vertical-align: top;\n",
       "    }\n",
       "\n",
       "    .dataframe thead th {\n",
       "        text-align: right;\n",
       "    }\n",
       "</style>\n",
       "<table border=\"1\" class=\"dataframe\">\n",
       "  <thead>\n",
       "    <tr style=\"text-align: right;\">\n",
       "      <th></th>\n",
       "      <th>airline_sentiment</th>\n",
       "      <th>text</th>\n",
       "      <th>text_lower</th>\n",
       "      <th>text_wo_stopfreq</th>\n",
       "      <th>text_wo_freqrare</th>\n",
       "      <th>text_stemmed</th>\n",
       "      <th>text_lemmatized</th>\n",
       "    </tr>\n",
       "  </thead>\n",
       "  <tbody>\n",
       "    <tr>\n",
       "      <th>0</th>\n",
       "      <td>neutral</td>\n",
       "      <td>@VirginAmerica What @dhepburn said.</td>\n",
       "      <td>@virginamerica what @dhepburn said.</td>\n",
       "      <td>virginamerica what dhepburn said</td>\n",
       "      <td>virginamerica what dhepburn said</td>\n",
       "      <td>virginamerica what dhepburn said</td>\n",
       "      <td>virginamerica what dhepburn say</td>\n",
       "    </tr>\n",
       "    <tr>\n",
       "      <th>1</th>\n",
       "      <td>positive</td>\n",
       "      <td>@VirginAmerica plus you've added commercials to the experience... tacky.</td>\n",
       "      <td>@virginamerica plus you've added commercials to the experience... tacky.</td>\n",
       "      <td>virginamerica plus youve added commercials experience tacky</td>\n",
       "      <td>virginamerica plus youve added commercials experience tacky</td>\n",
       "      <td>virginamerica plu youv ad commerci experi tacki</td>\n",
       "      <td>virginamerica plus youve added commercial experience tacky</td>\n",
       "    </tr>\n",
       "    <tr>\n",
       "      <th>2</th>\n",
       "      <td>neutral</td>\n",
       "      <td>@VirginAmerica I didn't today... Must mean I need to take another trip!</td>\n",
       "      <td>@virginamerica i didn't today... must mean i need to take another trip!</td>\n",
       "      <td>virginamerica didnt today must mean need take another trip</td>\n",
       "      <td>virginamerica didnt today must mean need take another trip</td>\n",
       "      <td>virginamerica didnt today must mean need take anoth trip</td>\n",
       "      <td>virginamerica didnt today must mean need take another trip</td>\n",
       "    </tr>\n",
       "    <tr>\n",
       "      <th>3</th>\n",
       "      <td>negative</td>\n",
       "      <td>@VirginAmerica it's really aggressive to blast obnoxious \"entertainment\" in your guests' faces &amp;amp; they have little recourse</td>\n",
       "      <td>@virginamerica it's really aggressive to blast obnoxious \"entertainment\" in your guests' faces &amp;amp; they have little recourse</td>\n",
       "      <td>virginamerica its really aggressive blast obnoxious entertainment in your guests faces amp they have little recourse</td>\n",
       "      <td>virginamerica its really aggressive blast obnoxious entertainment in your guests faces amp they have little recourse</td>\n",
       "      <td>virginamerica it realli aggress blast obnoxi entertain in your guest face amp they have littl recours</td>\n",
       "      <td>virginamerica it really aggressive blast obnoxious entertainment in your guest face amp they have little recourse</td>\n",
       "    </tr>\n",
       "    <tr>\n",
       "      <th>4</th>\n",
       "      <td>negative</td>\n",
       "      <td>@VirginAmerica and it's a really big bad thing about it</td>\n",
       "      <td>@virginamerica and it's a really big bad thing about it</td>\n",
       "      <td>virginamerica and its really big bad thing about it</td>\n",
       "      <td>virginamerica and its really big bad thing about it</td>\n",
       "      <td>virginamerica and it realli big bad thing about it</td>\n",
       "      <td>virginamerica and it really big bad thing about it</td>\n",
       "    </tr>\n",
       "  </tbody>\n",
       "</table>\n",
       "</div>"
      ],
      "text/plain": [
       "  airline_sentiment  ...                                                                                                    text_lemmatized\n",
       "0  neutral           ...  virginamerica what dhepburn say                                                                                  \n",
       "1  positive          ...  virginamerica plus youve added commercial experience tacky                                                       \n",
       "2  neutral           ...  virginamerica didnt today must mean need take another trip                                                       \n",
       "3  negative          ...  virginamerica it really aggressive blast obnoxious entertainment in your guest face amp they have little recourse\n",
       "4  negative          ...  virginamerica and it really big bad thing about it                                                               \n",
       "\n",
       "[5 rows x 7 columns]"
      ]
     },
     "execution_count": 76,
     "metadata": {
      "tags": []
     },
     "output_type": "execute_result"
    }
   ],
   "source": [
    "from nltk.corpus import wordnet\n",
    "from nltk.stem import WordNetLemmatizer\n",
    "\n",
    "lemmatizer = WordNetLemmatizer()\n",
    "wordnet_map = {\"N\":wordnet.NOUN, \"V\":wordnet.VERB, \"J\":wordnet.ADJ, \"R\":wordnet.ADV}\n",
    "def lemmatize_words(text):\n",
    "    pos_tagged_text = nltk.pos_tag(text.split())\n",
    "    return \" \".join([lemmatizer.lemmatize(word, wordnet_map.get(pos[0], wordnet.NOUN)) for word, pos in pos_tagged_text])\n",
    "\n",
    "df[\"text_lemmatized\"] = df[\"text_wo_freqrare\"].apply(lambda text: lemmatize_words(text))\n",
    "df.head()"
   ]
  },
  {
   "cell_type": "markdown",
   "metadata": {},
   "source": [
    "## Removal of Emojis\n",
    "With more and more usage of social media platforms, there is an explosion in the usage of emojis in our\n",
    "day to day life as well. Probably we might need to remove these emojis for some of our textual analysis."
   ]
  },
  {
   "cell_type": "code",
   "execution_count": 0,
   "metadata": {
    "colab": {},
    "colab_type": "code",
    "id": "LqX5cowwYKQ-"
   },
   "outputs": [],
   "source": [
    "def remove_emoji(string):\n",
    "    emoji_pattern = re.compile(\"[\"\n",
    "                           u\"\\U0001F600-\\U0001F64F\"  # emoticons\n",
    "                           u\"\\U0001F300-\\U0001F5FF\"  # symbols & pictographs\n",
    "                           u\"\\U0001F680-\\U0001F6FF\"  # transport & map symbols\n",
    "                           u\"\\U0001F1E0-\\U0001F1FF\"  # flags (iOS)\n",
    "                           u\"\\U00002702-\\U000027B0\"\n",
    "                           u\"\\U000024C2-\\U0001F251\"\n",
    "                           \"]+\", flags=re.UNICODE)\n",
    "    return emoji_pattern.sub(r'', string)\n"
   ]
  },
  {
   "cell_type": "code",
   "execution_count": 78,
   "metadata": {
    "colab": {
     "base_uri": "https://localhost:8080/",
     "height": 34
    },
    "colab_type": "code",
    "id": "7yy_oVIXYfzS",
    "outputId": "7ea95b24-e850-4770-892c-1c09537b50a4"
   },
   "outputs": [
    {
     "data": {
      "text/plain": [
       "'game is on '"
      ]
     },
     "execution_count": 78,
     "metadata": {
      "tags": []
     },
     "output_type": "execute_result"
    }
   ],
   "source": [
    "remove_emoji(\"game is on 🔥🔥\")"
   ]
  },
  {
   "cell_type": "code",
   "execution_count": 0,
   "metadata": {
    "colab": {},
    "colab_type": "code",
    "id": "4CysU57pp0Wq"
   },
   "outputs": [],
   "source": [
    "EMOTICONS = {\n",
    "    u\":‑\\)\":\"Happy face or smiley\",\n",
    "    u\":\\)\":\"Happy face or smiley\",\n",
    "    u\":-\\]\":\"Happy face or smiley\",\n",
    "    u\":\\]\":\"Happy face or smiley\",\n",
    "    u\":-3\":\"Happy face smiley\",\n",
    "    u\":3\":\"Happy face smiley\",\n",
    "    u\":->\":\"Happy face smiley\",\n",
    "    u\":>\":\"Happy face smiley\",\n",
    "    u\"8-\\)\":\"Happy face smiley\",\n",
    "    u\":o\\)\":\"Happy face smiley\",\n",
    "    u\":-\\}\":\"Happy face smiley\",\n",
    "    u\":\\}\":\"Happy face smiley\",\n",
    "    u\":-\\)\":\"Happy face smiley\",\n",
    "    u\":c\\)\":\"Happy face smiley\",\n",
    "    u\":\\^\\)\":\"Happy face smiley\",\n",
    "    u\"=\\]\":\"Happy face smiley\",\n",
    "    u\"=\\)\":\"Happy face smiley\",\n",
    "    u\":‑D\":\"Laughing, big grin or laugh with glasses\",\n",
    "    u\":D\":\"Laughing, big grin or laugh with glasses\",\n",
    "    u\"8‑D\":\"Laughing, big grin or laugh with glasses\",\n",
    "    u\"8D\":\"Laughing, big grin or laugh with glasses\",\n",
    "    u\"X‑D\":\"Laughing, big grin or laugh with glasses\",\n",
    "    u\"XD\":\"Laughing, big grin or laugh with glasses\",\n",
    "    u\"=D\":\"Laughing, big grin or laugh with glasses\",\n",
    "    u\"=3\":\"Laughing, big grin or laugh with glasses\",\n",
    "    u\"B\\^D\":\"Laughing, big grin or laugh with glasses\",\n",
    "    u\":-\\)\\)\":\"Very happy\",\n",
    "    u\":‑\\(\":\"Frown, sad, andry or pouting\",\n",
    "    u\":-\\(\":\"Frown, sad, andry or pouting\",\n",
    "    u\":\\(\":\"Frown, sad, andry or pouting\",\n",
    "    u\":‑c\":\"Frown, sad, andry or pouting\",\n",
    "    u\":c\":\"Frown, sad, andry or pouting\",\n",
    "    u\":‑<\":\"Frown, sad, andry or pouting\",\n",
    "    u\":<\":\"Frown, sad, andry or pouting\",\n",
    "    u\":‑\\[\":\"Frown, sad, andry or pouting\",\n",
    "    u\":\\[\":\"Frown, sad, andry or pouting\",\n",
    "    u\":-\\|\\|\":\"Frown, sad, andry or pouting\",\n",
    "    u\">:\\[\":\"Frown, sad, andry or pouting\",\n",
    "    u\":\\{\":\"Frown, sad, andry or pouting\",\n",
    "    u\":@\":\"Frown, sad, andry or pouting\",\n",
    "    u\">:\\(\":\"Frown, sad, andry or pouting\",\n",
    "    u\":'‑\\(\":\"Crying\",\n",
    "    u\":'\\(\":\"Crying\",\n",
    "    u\":'‑\\)\":\"Tears of happiness\",\n",
    "    u\":'\\)\":\"Tears of happiness\",\n",
    "    u\"D‑':\":\"Horror\",\n",
    "    u\"D:<\":\"Disgust\",\n",
    "    u\"D:\":\"Sadness\",\n",
    "    u\"D8\":\"Great dismay\",\n",
    "    u\"D;\":\"Great dismay\",\n",
    "    u\"D=\":\"Great dismay\",\n",
    "    u\"DX\":\"Great dismay\",\n",
    "    u\":‑O\":\"Surprise\",\n",
    "    u\":O\":\"Surprise\",\n",
    "    u\":‑o\":\"Surprise\",\n",
    "    u\":o\":\"Surprise\",\n",
    "    u\":-0\":\"Shock\",\n",
    "    u\"8‑0\":\"Yawn\",\n",
    "    u\">:O\":\"Yawn\",\n",
    "    u\":-\\*\":\"Kiss\",\n",
    "    u\":\\*\":\"Kiss\",\n",
    "    u\":X\":\"Kiss\",\n",
    "    u\";‑\\)\":\"Wink or smirk\",\n",
    "    u\";\\)\":\"Wink or smirk\",\n",
    "    u\"\\*-\\)\":\"Wink or smirk\",\n",
    "    u\"\\*\\)\":\"Wink or smirk\",\n",
    "    u\";‑\\]\":\"Wink or smirk\",\n",
    "    u\";\\]\":\"Wink or smirk\",\n",
    "    u\";\\^\\)\":\"Wink or smirk\",\n",
    "    u\":‑,\":\"Wink or smirk\",\n",
    "    u\";D\":\"Wink or smirk\",\n",
    "    u\":‑P\":\"Tongue sticking out, cheeky, playful or blowing a raspberry\",\n",
    "    u\":P\":\"Tongue sticking out, cheeky, playful or blowing a raspberry\",\n",
    "    u\"X‑P\":\"Tongue sticking out, cheeky, playful or blowing a raspberry\",\n",
    "    u\"XP\":\"Tongue sticking out, cheeky, playful or blowing a raspberry\",\n",
    "    u\":‑Þ\":\"Tongue sticking out, cheeky, playful or blowing a raspberry\",\n",
    "    u\":Þ\":\"Tongue sticking out, cheeky, playful or blowing a raspberry\",\n",
    "    u\":b\":\"Tongue sticking out, cheeky, playful or blowing a raspberry\",\n",
    "    u\"d:\":\"Tongue sticking out, cheeky, playful or blowing a raspberry\",\n",
    "    u\"=p\":\"Tongue sticking out, cheeky, playful or blowing a raspberry\",\n",
    "    u\">:P\":\"Tongue sticking out, cheeky, playful or blowing a raspberry\",\n",
    "    u\":‑/\":\"Skeptical, annoyed, undecided, uneasy or hesitant\",\n",
    "    u\":/\":\"Skeptical, annoyed, undecided, uneasy or hesitant\",\n",
    "    u\":-[.]\":\"Skeptical, annoyed, undecided, uneasy or hesitant\",\n",
    "    u\">:[(\\\\\\)]\":\"Skeptical, annoyed, undecided, uneasy or hesitant\",\n",
    "    u\">:/\":\"Skeptical, annoyed, undecided, uneasy or hesitant\",\n",
    "    u\":[(\\\\\\)]\":\"Skeptical, annoyed, undecided, uneasy or hesitant\",\n",
    "    u\"=/\":\"Skeptical, annoyed, undecided, uneasy or hesitant\",\n",
    "    u\"=[(\\\\\\)]\":\"Skeptical, annoyed, undecided, uneasy or hesitant\",\n",
    "    u\":L\":\"Skeptical, annoyed, undecided, uneasy or hesitant\",\n",
    "    u\"=L\":\"Skeptical, annoyed, undecided, uneasy or hesitant\",\n",
    "    u\":S\":\"Skeptical, annoyed, undecided, uneasy or hesitant\",\n",
    "    u\":‑\\|\":\"Straight face\",\n",
    "    u\":\\|\":\"Straight face\",\n",
    "    u\":$\":\"Embarrassed or blushing\",\n",
    "    u\":‑x\":\"Sealed lips or wearing braces or tongue-tied\",\n",
    "    u\":x\":\"Sealed lips or wearing braces or tongue-tied\",\n",
    "    u\":‑#\":\"Sealed lips or wearing braces or tongue-tied\",\n",
    "    u\":#\":\"Sealed lips or wearing braces or tongue-tied\",\n",
    "    u\":‑&\":\"Sealed lips or wearing braces or tongue-tied\",\n",
    "    u\":&\":\"Sealed lips or wearing braces or tongue-tied\",\n",
    "    u\"O:‑\\)\":\"Angel, saint or innocent\",\n",
    "    u\"O:\\)\":\"Angel, saint or innocent\",\n",
    "    u\"0:‑3\":\"Angel, saint or innocent\",\n",
    "    u\"0:3\":\"Angel, saint or innocent\",\n",
    "    u\"0:‑\\)\":\"Angel, saint or innocent\",\n",
    "    u\"0:\\)\":\"Angel, saint or innocent\",\n",
    "    u\":‑b\":\"Tongue sticking out, cheeky, playful or blowing a raspberry\",\n",
    "    u\"0;\\^\\)\":\"Angel, saint or innocent\",\n",
    "    u\">:‑\\)\":\"Evil or devilish\",\n",
    "    u\">:\\)\":\"Evil or devilish\",\n",
    "    u\"\\}:‑\\)\":\"Evil or devilish\",\n",
    "    u\"\\}:\\)\":\"Evil or devilish\",\n",
    "    u\"3:‑\\)\":\"Evil or devilish\",\n",
    "    u\"3:\\)\":\"Evil or devilish\",\n",
    "    u\">;\\)\":\"Evil or devilish\",\n",
    "    u\"\\|;‑\\)\":\"Cool\",\n",
    "    u\"\\|‑O\":\"Bored\",\n",
    "    u\":‑J\":\"Tongue-in-cheek\",\n",
    "    u\"#‑\\)\":\"Party all night\",\n",
    "    u\"%‑\\)\":\"Drunk or confused\",\n",
    "    u\"%\\)\":\"Drunk or confused\",\n",
    "    u\":-###..\":\"Being sick\",\n",
    "    u\":###..\":\"Being sick\",\n",
    "    u\"<:‑\\|\":\"Dump\",\n",
    "    u\"\\(>_<\\)\":\"Troubled\",\n",
    "    u\"\\(>_<\\)>\":\"Troubled\",\n",
    "    u\"\\(';'\\)\":\"Baby\",\n",
    "    u\"\\(\\^\\^>``\":\"Nervous or Embarrassed or Troubled or Shy or Sweat drop\",\n",
    "    u\"\\(\\^_\\^;\\)\":\"Nervous or Embarrassed or Troubled or Shy or Sweat drop\",\n",
    "    u\"\\(-_-;\\)\":\"Nervous or Embarrassed or Troubled or Shy or Sweat drop\",\n",
    "    u\"\\(~_~;\\) \\(・\\.・;\\)\":\"Nervous or Embarrassed or Troubled or Shy or Sweat drop\",\n",
    "    u\"\\(-_-\\)zzz\":\"Sleeping\",\n",
    "    u\"\\(\\^_-\\)\":\"Wink\",\n",
    "    u\"\\(\\(\\+_\\+\\)\\)\":\"Confused\",\n",
    "    u\"\\(\\+o\\+\\)\":\"Confused\",\n",
    "    u\"\\(o\\|o\\)\":\"Ultraman\",\n",
    "    u\"\\^_\\^\":\"Joyful\",\n",
    "    u\"\\(\\^_\\^\\)/\":\"Joyful\",\n",
    "    u\"\\(\\^O\\^\\)／\":\"Joyful\",\n",
    "    u\"\\(\\^o\\^\\)／\":\"Joyful\",\n",
    "    u\"\\(__\\)\":\"Kowtow as a sign of respect, or dogeza for apology\",\n",
    "    u\"_\\(\\._\\.\\)_\":\"Kowtow as a sign of respect, or dogeza for apology\",\n",
    "    u\"<\\(_ _\\)>\":\"Kowtow as a sign of respect, or dogeza for apology\",\n",
    "    u\"<m\\(__\\)m>\":\"Kowtow as a sign of respect, or dogeza for apology\",\n",
    "    u\"m\\(__\\)m\":\"Kowtow as a sign of respect, or dogeza for apology\",\n",
    "    u\"m\\(_ _\\)m\":\"Kowtow as a sign of respect, or dogeza for apology\",\n",
    "    u\"\\('_'\\)\":\"Sad or Crying\",\n",
    "    u\"\\(/_;\\)\":\"Sad or Crying\",\n",
    "    u\"\\(T_T\\) \\(;_;\\)\":\"Sad or Crying\",\n",
    "    u\"\\(;_;\":\"Sad of Crying\",\n",
    "    u\"\\(;_:\\)\":\"Sad or Crying\",\n",
    "    u\"\\(;O;\\)\":\"Sad or Crying\",\n",
    "    u\"\\(:_;\\)\":\"Sad or Crying\",\n",
    "    u\"\\(ToT\\)\":\"Sad or Crying\",\n",
    "    u\";_;\":\"Sad or Crying\",\n",
    "    u\";-;\":\"Sad or Crying\",\n",
    "    u\";n;\":\"Sad or Crying\",\n",
    "    u\";;\":\"Sad or Crying\",\n",
    "    u\"Q\\.Q\":\"Sad or Crying\",\n",
    "    u\"T\\.T\":\"Sad or Crying\",\n",
    "    u\"QQ\":\"Sad or Crying\",\n",
    "    u\"Q_Q\":\"Sad or Crying\",\n",
    "    u\"\\(-\\.-\\)\":\"Shame\",\n",
    "    u\"\\(-_-\\)\":\"Shame\",\n",
    "    u\"\\(一一\\)\":\"Shame\",\n",
    "    u\"\\(；一_一\\)\":\"Shame\",\n",
    "    u\"\\(=_=\\)\":\"Tired\",\n",
    "    u\"\\(=\\^\\·\\^=\\)\":\"cat\",\n",
    "    u\"\\(=\\^\\·\\·\\^=\\)\":\"cat\",\n",
    "    u\"=_\\^=\t\":\"cat\",\n",
    "    u\"\\(\\.\\.\\)\":\"Looking down\",\n",
    "    u\"\\(\\._\\.\\)\":\"Looking down\",\n",
    "    u\"\\^m\\^\":\"Giggling with hand covering mouth\",\n",
    "    u\"\\(\\・\\・?\":\"Confusion\",\n",
    "    u\"\\(?_?\\)\":\"Confusion\",\n",
    "    u\">\\^_\\^<\":\"Normal Laugh\",\n",
    "    u\"<\\^!\\^>\":\"Normal Laugh\",\n",
    "    u\"\\^/\\^\":\"Normal Laugh\",\n",
    "    u\"\\（\\*\\^_\\^\\*）\" :\"Normal Laugh\",\n",
    "    u\"\\(\\^<\\^\\) \\(\\^\\.\\^\\)\":\"Normal Laugh\",\n",
    "    u\"\\(^\\^\\)\":\"Normal Laugh\",\n",
    "    u\"\\(\\^\\.\\^\\)\":\"Normal Laugh\",\n",
    "    u\"\\(\\^_\\^\\.\\)\":\"Normal Laugh\",\n",
    "    u\"\\(\\^_\\^\\)\":\"Normal Laugh\",\n",
    "    u\"\\(\\^\\^\\)\":\"Normal Laugh\",\n",
    "    u\"\\(\\^J\\^\\)\":\"Normal Laugh\",\n",
    "    u\"\\(\\*\\^\\.\\^\\*\\)\":\"Normal Laugh\",\n",
    "    u\"\\(\\^—\\^\\）\":\"Normal Laugh\",\n",
    "    u\"\\(#\\^\\.\\^#\\)\":\"Normal Laugh\",\n",
    "    u\"\\（\\^—\\^\\）\":\"Waving\",\n",
    "    u\"\\(;_;\\)/~~~\":\"Waving\",\n",
    "    u\"\\(\\^\\.\\^\\)/~~~\":\"Waving\",\n",
    "    u\"\\(-_-\\)/~~~ \\($\\·\\·\\)/~~~\":\"Waving\",\n",
    "    u\"\\(T_T\\)/~~~\":\"Waving\",\n",
    "    u\"\\(ToT\\)/~~~\":\"Waving\",\n",
    "    u\"\\(\\*\\^0\\^\\*\\)\":\"Excited\",\n",
    "    u\"\\(\\*_\\*\\)\":\"Amazed\",\n",
    "    u\"\\(\\*_\\*;\":\"Amazed\",\n",
    "    u\"\\(\\+_\\+\\) \\(@_@\\)\":\"Amazed\",\n",
    "    u\"\\(\\*\\^\\^\\)v\":\"Laughing,Cheerful\",\n",
    "    u\"\\(\\^_\\^\\)v\":\"Laughing,Cheerful\",\n",
    "    u\"\\(\\(d[-_-]b\\)\\)\":\"Headphones,Listening to music\",\n",
    "    u'\\(-\"-\\)':\"Worried\",\n",
    "    u\"\\(ーー;\\)\":\"Worried\",\n",
    "    u\"\\(\\^0_0\\^\\)\":\"Eyeglasses\",\n",
    "    u\"\\(\\＾ｖ\\＾\\)\":\"Happy\",\n",
    "    u\"\\(\\＾ｕ\\＾\\)\":\"Happy\",\n",
    "    u\"\\(\\^\\)o\\(\\^\\)\":\"Happy\",\n",
    "    u\"\\(\\^O\\^\\)\":\"Happy\",\n",
    "    u\"\\(\\^o\\^\\)\":\"Happy\",\n",
    "    u\"\\)\\^o\\^\\(\":\"Happy\",\n",
    "    u\":O o_O\":\"Surprised\",\n",
    "    u\"o_0\":\"Surprised\",\n",
    "    u\"o\\.O\":\"Surpised\",\n",
    "    u\"\\(o\\.o\\)\":\"Surprised\",\n",
    "    u\"oO\":\"Surprised\",\n",
    "    u\"\\(\\*￣m￣\\)\":\"Dissatisfied\",\n",
    "    u\"\\(‘A`\\)\":\"Snubbed or Deflated\"\n",
    "}"
   ]
  },
  {
   "cell_type": "markdown",
   "metadata": {},
   "source": [
    "### Removal of Emoticons\n",
    "This is what we did in the last step right? Nope. We did remove emojis in the last step but not emoticons.\n",
    "There is a minor difference between emojis and emoticons.\n",
    "From Grammarist.com, emoticon is built from keyboard characters that when put together in a certain way\n",
    "represent a facial expression, an emoji is an actual image.\n",
    "\n",
    ":-) is an emoticon\n",
    "\n",
    "😀 is an emoji"
   ]
  },
  {
   "cell_type": "code",
   "execution_count": 80,
   "metadata": {
    "colab": {
     "base_uri": "https://localhost:8080/",
     "height": 34
    },
    "colab_type": "code",
    "id": "tcQtGS1IYniZ",
    "outputId": "c74b456a-1f0a-4786-c3d8-d3af334409e2"
   },
   "outputs": [
    {
     "data": {
      "text/plain": [
       "'Hello '"
      ]
     },
     "execution_count": 80,
     "metadata": {
      "tags": []
     },
     "output_type": "execute_result"
    }
   ],
   "source": [
    "def remove_emoticons(text):\n",
    "    emoticon_pattern = re.compile(u'(' + u'|'.join(k for k in EMOTICONS) + u')')\n",
    "    return emoticon_pattern.sub(r'', text)\n",
    "\n",
    "remove_emoticons(\"Hello :-)\")"
   ]
  },
  {
   "cell_type": "code",
   "execution_count": 81,
   "metadata": {
    "colab": {
     "base_uri": "https://localhost:8080/",
     "height": 34
    },
    "colab_type": "code",
    "id": "3FWBHPgCYweN",
    "outputId": "0961663f-3ca9-46ff-de43-cbb7f33f1c76"
   },
   "outputs": [
    {
     "data": {
      "text/plain": [
       "'I am sad '"
      ]
     },
     "execution_count": 81,
     "metadata": {
      "tags": []
     },
     "output_type": "execute_result"
    }
   ],
   "source": [
    "remove_emoticons(\"I am sad :(\")"
   ]
  },
  {
   "cell_type": "markdown",
   "metadata": {},
   "source": [
    "### Removal of URLs\n",
    "Next preprocessing step is to remove any URLs present in the data. For example, if we are doing a twitter\n",
    "analysis, then there is a good chance that the tweet will have some URL in it. Probably we might need to\n",
    "remove them for our further analysis."
   ]
  },
  {
   "cell_type": "code",
   "execution_count": 2,
   "metadata": {
    "colab": {},
    "colab_type": "code",
    "id": "97QyHrLXaISn"
   },
   "outputs": [],
   "source": [
    "def remove_urls(text):\n",
    "    url_pattern = re.compile(r'https?://\\S+|www\\.\\S+')\n",
    "    return url_pattern.sub(r'', text)"
   ]
  },
  {
   "cell_type": "code",
   "execution_count": 83,
   "metadata": {
    "colab": {
     "base_uri": "https://localhost:8080/",
     "height": 34
    },
    "colab_type": "code",
    "id": "m3O1SiOlaMLM",
    "outputId": "48f8ef71-833d-419b-ba44-da5ab8ddcc6f"
   },
   "outputs": [
    {
     "data": {
      "text/plain": [
       "'Driverless AI NLP blog post on '"
      ]
     },
     "execution_count": 83,
     "metadata": {
      "tags": []
     },
     "output_type": "execute_result"
    }
   ],
   "source": [
    "text = \"Driverless AI NLP blog post on https://www.h2o.ai/blog/detecting-sarcasm-is-difficult-but-ai-may-have-an-answer/\"\n",
    "remove_urls(text)"
   ]
  },
  {
   "cell_type": "code",
   "execution_count": 84,
   "metadata": {
    "colab": {
     "base_uri": "https://localhost:8080/",
     "height": 34
    },
    "colab_type": "code",
    "id": "pvq0gWnLaP9z",
    "outputId": "5b950146-81e6-4249-872e-186b3317fa5a"
   },
   "outputs": [
    {
     "data": {
      "text/plain": [
       "'Please refer to link  for the paper'"
      ]
     },
     "execution_count": 84,
     "metadata": {
      "tags": []
     },
     "output_type": "execute_result"
    }
   ],
   "source": [
    "text = \"Please refer to link http://lnkd.in/ecnt5yC for the paper\"\n",
    "remove_urls(text)"
   ]
  },
  {
   "cell_type": "code",
   "execution_count": 85,
   "metadata": {
    "colab": {
     "base_uri": "https://localhost:8080/",
     "height": 34
    },
    "colab_type": "code",
    "id": "Sbxx8jBeaVRY",
    "outputId": "70de6dcc-2a2c-4e47-99a8-beae0ef6b988"
   },
   "outputs": [
    {
     "data": {
      "text/plain": [
       "'Want to know more. Checkout  for additional information'"
      ]
     },
     "execution_count": 85,
     "metadata": {
      "tags": []
     },
     "output_type": "execute_result"
    }
   ],
   "source": [
    "text = \"Want to know more. Checkout www.h2o.ai for additional information\"\n",
    "remove_urls(text)"
   ]
  },
  {
   "cell_type": "markdown",
   "metadata": {},
   "source": [
    "## Checking and Coorecting Spelling"
   ]
  },
  {
   "cell_type": "code",
   "execution_count": 88,
   "metadata": {
    "colab": {
     "base_uri": "https://localhost:8080/",
     "height": 34
    },
    "colab_type": "code",
    "id": "aHkQ4UoIa840",
    "outputId": "b153a5f1-2725-4815-bd80-8998ad4c6f08"
   },
   "outputs": [
    {
     "name": "stdout",
     "output_type": "stream",
     "text": [
      "Requirement already satisfied: pyspellchecker in /usr/local/lib/python3.6/dist-packages (0.5.2)\n"
     ]
    }
   ],
   "source": [
    "!pip install pyspellchecker"
   ]
  },
  {
   "cell_type": "code",
   "execution_count": 89,
   "metadata": {
    "colab": {
     "base_uri": "https://localhost:8080/",
     "height": 34
    },
    "colab_type": "code",
    "id": "RcjvL4lcbAY0",
    "outputId": "b8c665af-a81d-4cd9-d14e-a212bca3f45e"
   },
   "outputs": [
    {
     "data": {
      "text/plain": [
       "'spelling correction'"
      ]
     },
     "execution_count": 89,
     "metadata": {
      "tags": []
     },
     "output_type": "execute_result"
    }
   ],
   "source": [
    "from spellchecker import SpellChecker\n",
    "\n",
    "spell = SpellChecker()\n",
    "def correct_spellings(text):\n",
    "    corrected_text = []\n",
    "    misspelled_words = spell.unknown(text.split())\n",
    "    for word in text.split():\n",
    "        if word in misspelled_words:\n",
    "            corrected_text.append(spell.correction(word))\n",
    "        else:\n",
    "            corrected_text.append(word)\n",
    "    return \" \".join(corrected_text)\n",
    "        \n",
    "text = \"speling correctin\"\n",
    "correct_spellings(text)\n"
   ]
  },
  {
   "cell_type": "code",
   "execution_count": 90,
   "metadata": {
    "colab": {
     "base_uri": "https://localhost:8080/",
     "height": 34
    },
    "colab_type": "code",
    "id": "t_dHP6FVbD49",
    "outputId": "2064d738-58cb-4c58-b09b-0fefed9b0558"
   },
   "outputs": [
    {
     "data": {
      "text/plain": [
       "'thanks for reading the notebook'"
      ]
     },
     "execution_count": 90,
     "metadata": {
      "tags": []
     },
     "output_type": "execute_result"
    }
   ],
   "source": [
    "text = \"thnks for readin the notebook\"\n",
    "correct_spellings(text)"
   ]
  },
  {
   "cell_type": "code",
   "execution_count": 91,
   "metadata": {
    "colab": {
     "base_uri": "https://localhost:8080/",
     "height": 918
    },
    "colab_type": "code",
    "id": "9ABHHMqAg0zD",
    "outputId": "238ada09-1087-4237-dc5a-519f0092e297"
   },
   "outputs": [
    {
     "data": {
      "text/html": [
       "<div>\n",
       "<style scoped>\n",
       "    .dataframe tbody tr th:only-of-type {\n",
       "        vertical-align: middle;\n",
       "    }\n",
       "\n",
       "    .dataframe tbody tr th {\n",
       "        vertical-align: top;\n",
       "    }\n",
       "\n",
       "    .dataframe thead th {\n",
       "        text-align: right;\n",
       "    }\n",
       "</style>\n",
       "<table border=\"1\" class=\"dataframe\">\n",
       "  <thead>\n",
       "    <tr style=\"text-align: right;\">\n",
       "      <th></th>\n",
       "      <th>airline_sentiment</th>\n",
       "      <th>text</th>\n",
       "      <th>text_lower</th>\n",
       "      <th>text_wo_stopfreq</th>\n",
       "      <th>text_wo_freqrare</th>\n",
       "      <th>text_stemmed</th>\n",
       "      <th>text_lemmatized</th>\n",
       "    </tr>\n",
       "  </thead>\n",
       "  <tbody>\n",
       "    <tr>\n",
       "      <th>0</th>\n",
       "      <td>neutral</td>\n",
       "      <td>@VirginAmerica What @dhepburn said.</td>\n",
       "      <td>@virginamerica what @dhepburn said.</td>\n",
       "      <td>virginamerica what dhepburn said</td>\n",
       "      <td>virginamerica what dhepburn said</td>\n",
       "      <td>virginamerica what dhepburn said</td>\n",
       "      <td>virginamerica what dhepburn say</td>\n",
       "    </tr>\n",
       "    <tr>\n",
       "      <th>1</th>\n",
       "      <td>positive</td>\n",
       "      <td>@VirginAmerica plus you've added commercials to the experience... tacky.</td>\n",
       "      <td>@virginamerica plus you've added commercials to the experience... tacky.</td>\n",
       "      <td>virginamerica plus youve added commercials experience tacky</td>\n",
       "      <td>virginamerica plus youve added commercials experience tacky</td>\n",
       "      <td>virginamerica plu youv ad commerci experi tacki</td>\n",
       "      <td>virginamerica plus youve added commercial experience tacky</td>\n",
       "    </tr>\n",
       "    <tr>\n",
       "      <th>2</th>\n",
       "      <td>neutral</td>\n",
       "      <td>@VirginAmerica I didn't today... Must mean I need to take another trip!</td>\n",
       "      <td>@virginamerica i didn't today... must mean i need to take another trip!</td>\n",
       "      <td>virginamerica didnt today must mean need take another trip</td>\n",
       "      <td>virginamerica didnt today must mean need take another trip</td>\n",
       "      <td>virginamerica didnt today must mean need take anoth trip</td>\n",
       "      <td>virginamerica didnt today must mean need take another trip</td>\n",
       "    </tr>\n",
       "    <tr>\n",
       "      <th>3</th>\n",
       "      <td>negative</td>\n",
       "      <td>@VirginAmerica it's really aggressive to blast obnoxious \"entertainment\" in your guests' faces &amp;amp; they have little recourse</td>\n",
       "      <td>@virginamerica it's really aggressive to blast obnoxious \"entertainment\" in your guests' faces &amp;amp; they have little recourse</td>\n",
       "      <td>virginamerica its really aggressive blast obnoxious entertainment in your guests faces amp they have little recourse</td>\n",
       "      <td>virginamerica its really aggressive blast obnoxious entertainment in your guests faces amp they have little recourse</td>\n",
       "      <td>virginamerica it realli aggress blast obnoxi entertain in your guest face amp they have littl recours</td>\n",
       "      <td>virginamerica it really aggressive blast obnoxious entertainment in your guest face amp they have little recourse</td>\n",
       "    </tr>\n",
       "    <tr>\n",
       "      <th>4</th>\n",
       "      <td>negative</td>\n",
       "      <td>@VirginAmerica and it's a really big bad thing about it</td>\n",
       "      <td>@virginamerica and it's a really big bad thing about it</td>\n",
       "      <td>virginamerica and its really big bad thing about it</td>\n",
       "      <td>virginamerica and its really big bad thing about it</td>\n",
       "      <td>virginamerica and it realli big bad thing about it</td>\n",
       "      <td>virginamerica and it really big bad thing about it</td>\n",
       "    </tr>\n",
       "    <tr>\n",
       "      <th>5</th>\n",
       "      <td>negative</td>\n",
       "      <td>@VirginAmerica seriously would pay $30 a flight for seats that didn't have this playing.\\nit's really the only bad thing about flying VA</td>\n",
       "      <td>@virginamerica seriously would pay $30 a flight for seats that didn't have this playing.\\nit's really the only bad thing about flying va</td>\n",
       "      <td>virginamerica seriously would pay 30 flight for seats that didnt have this playing its really only bad thing about flying va</td>\n",
       "      <td>virginamerica seriously would pay 30 flight for seats that didnt have this playing its really only bad thing about flying va</td>\n",
       "      <td>virginamerica serious would pay 30 flight for seat that didnt have thi play it realli onli bad thing about fli va</td>\n",
       "      <td>virginamerica seriously would pay 30 flight for seat that didnt have this play it really only bad thing about fly va</td>\n",
       "    </tr>\n",
       "    <tr>\n",
       "      <th>6</th>\n",
       "      <td>positive</td>\n",
       "      <td>@VirginAmerica yes, nearly every time I fly VX this “ear worm” won’t go away :)</td>\n",
       "      <td>@virginamerica yes, nearly every time i fly vx this “ear worm” won’t go away :)</td>\n",
       "      <td>virginamerica yes nearly every time fly vx this “ear worm” won’t go away</td>\n",
       "      <td>virginamerica yes nearly every time fly vx this “ear worm” won’t go away</td>\n",
       "      <td>virginamerica ye nearli everi time fli vx thi “ear worm” won’t go away</td>\n",
       "      <td>virginamerica yes nearly every time fly vx this “ear worm” won’t go away</td>\n",
       "    </tr>\n",
       "    <tr>\n",
       "      <th>7</th>\n",
       "      <td>neutral</td>\n",
       "      <td>@VirginAmerica Really missed a prime opportunity for Men Without Hats parody, there. https://t.co/mWpG7grEZP</td>\n",
       "      <td>@virginamerica really missed a prime opportunity for men without hats parody, there. https://t.co/mwpg7grezp</td>\n",
       "      <td>virginamerica really missed prime opportunity for men without hats parody there httpstcomwpg7grezp</td>\n",
       "      <td>virginamerica really missed prime opportunity for men without hats parody there httpstcomwpg7grezp</td>\n",
       "      <td>virginamerica realli miss prime opportun for men without hat parodi there httpstcomwpg7grezp</td>\n",
       "      <td>virginamerica really miss prime opportunity for men without hat parody there httpstcomwpg7grezp</td>\n",
       "    </tr>\n",
       "    <tr>\n",
       "      <th>8</th>\n",
       "      <td>positive</td>\n",
       "      <td>@virginamerica Well, I didn't…but NOW I DO! :-D</td>\n",
       "      <td>@virginamerica well, i didn't…but now i do! :-d</td>\n",
       "      <td>virginamerica well didnt…but now do d</td>\n",
       "      <td>virginamerica well didnt…but now do d</td>\n",
       "      <td>virginamerica well didnt…but now do d</td>\n",
       "      <td>virginamerica well didnt…but now do d</td>\n",
       "    </tr>\n",
       "    <tr>\n",
       "      <th>9</th>\n",
       "      <td>positive</td>\n",
       "      <td>@VirginAmerica it was amazing, and arrived an hour early. You're too good to me.</td>\n",
       "      <td>@virginamerica it was amazing, and arrived an hour early. you're too good to me.</td>\n",
       "      <td>virginamerica it was amazing and arrived an hour early youre too good me</td>\n",
       "      <td>virginamerica it was amazing and arrived an hour early youre too good me</td>\n",
       "      <td>virginamerica it wa amaz and arriv an hour earli your too good me</td>\n",
       "      <td>virginamerica it be amaze and arrive an hour early youre too good me</td>\n",
       "    </tr>\n",
       "  </tbody>\n",
       "</table>\n",
       "</div>"
      ],
      "text/plain": [
       "  airline_sentiment  ...                                                                                                       text_lemmatized\n",
       "0  neutral           ...  virginamerica what dhepburn say                                                                                     \n",
       "1  positive          ...  virginamerica plus youve added commercial experience tacky                                                          \n",
       "2  neutral           ...  virginamerica didnt today must mean need take another trip                                                          \n",
       "3  negative          ...  virginamerica it really aggressive blast obnoxious entertainment in your guest face amp they have little recourse   \n",
       "4  negative          ...  virginamerica and it really big bad thing about it                                                                  \n",
       "5  negative          ...  virginamerica seriously would pay 30 flight for seat that didnt have this play it really only bad thing about fly va\n",
       "6  positive          ...  virginamerica yes nearly every time fly vx this “ear worm” won’t go away                                            \n",
       "7  neutral           ...  virginamerica really miss prime opportunity for men without hat parody there httpstcomwpg7grezp                     \n",
       "8  positive          ...  virginamerica well didnt…but now do d                                                                               \n",
       "9  positive          ...  virginamerica it be amaze and arrive an hour early youre too good me                                                \n",
       "\n",
       "[10 rows x 7 columns]"
      ]
     },
     "execution_count": 91,
     "metadata": {
      "tags": []
     },
     "output_type": "execute_result"
    }
   ],
   "source": [
    "df.head(10)"
   ]
  },
  {
   "cell_type": "code",
   "execution_count": 92,
   "metadata": {
    "colab": {
     "base_uri": "https://localhost:8080/",
     "height": 582
    },
    "colab_type": "code",
    "id": "1T7nSaqIbJNO",
    "outputId": "ac2bb565-7fd5-4ea6-9b31-e9a7d2b57912"
   },
   "outputs": [
    {
     "data": {
      "text/html": [
       "<div>\n",
       "<style scoped>\n",
       "    .dataframe tbody tr th:only-of-type {\n",
       "        vertical-align: middle;\n",
       "    }\n",
       "\n",
       "    .dataframe tbody tr th {\n",
       "        vertical-align: top;\n",
       "    }\n",
       "\n",
       "    .dataframe thead th {\n",
       "        text-align: right;\n",
       "    }\n",
       "</style>\n",
       "<table border=\"1\" class=\"dataframe\">\n",
       "  <thead>\n",
       "    <tr style=\"text-align: right;\">\n",
       "      <th></th>\n",
       "      <th>airline_sentiment</th>\n",
       "      <th>text</th>\n",
       "      <th>text_lower</th>\n",
       "      <th>text_wo_stopfreq</th>\n",
       "      <th>text_wo_freqrare</th>\n",
       "      <th>text_stemmed</th>\n",
       "      <th>text_lemmatized</th>\n",
       "      <th>text_r_emoji</th>\n",
       "    </tr>\n",
       "  </thead>\n",
       "  <tbody>\n",
       "    <tr>\n",
       "      <th>0</th>\n",
       "      <td>neutral</td>\n",
       "      <td>@VirginAmerica What @dhepburn said.</td>\n",
       "      <td>@virginamerica what @dhepburn said.</td>\n",
       "      <td>virginamerica what dhepburn said</td>\n",
       "      <td>virginamerica what dhepburn said</td>\n",
       "      <td>virginamerica what dhepburn said</td>\n",
       "      <td>virginamerica what dhepburn say</td>\n",
       "      <td>virginamerica what dhepburn say</td>\n",
       "    </tr>\n",
       "    <tr>\n",
       "      <th>1</th>\n",
       "      <td>positive</td>\n",
       "      <td>@VirginAmerica plus you've added commercials to the experience... tacky.</td>\n",
       "      <td>@virginamerica plus you've added commercials to the experience... tacky.</td>\n",
       "      <td>virginamerica plus youve added commercials experience tacky</td>\n",
       "      <td>virginamerica plus youve added commercials experience tacky</td>\n",
       "      <td>virginamerica plu youv ad commerci experi tacki</td>\n",
       "      <td>virginamerica plus youve added commercial experience tacky</td>\n",
       "      <td>virginamerica plus youve added commercial experience tacky</td>\n",
       "    </tr>\n",
       "    <tr>\n",
       "      <th>2</th>\n",
       "      <td>neutral</td>\n",
       "      <td>@VirginAmerica I didn't today... Must mean I need to take another trip!</td>\n",
       "      <td>@virginamerica i didn't today... must mean i need to take another trip!</td>\n",
       "      <td>virginamerica didnt today must mean need take another trip</td>\n",
       "      <td>virginamerica didnt today must mean need take another trip</td>\n",
       "      <td>virginamerica didnt today must mean need take anoth trip</td>\n",
       "      <td>virginamerica didnt today must mean need take another trip</td>\n",
       "      <td>virginamerica didnt today must mean need take another trip</td>\n",
       "    </tr>\n",
       "    <tr>\n",
       "      <th>3</th>\n",
       "      <td>negative</td>\n",
       "      <td>@VirginAmerica it's really aggressive to blast obnoxious \"entertainment\" in your guests' faces &amp;amp; they have little recourse</td>\n",
       "      <td>@virginamerica it's really aggressive to blast obnoxious \"entertainment\" in your guests' faces &amp;amp; they have little recourse</td>\n",
       "      <td>virginamerica its really aggressive blast obnoxious entertainment in your guests faces amp they have little recourse</td>\n",
       "      <td>virginamerica its really aggressive blast obnoxious entertainment in your guests faces amp they have little recourse</td>\n",
       "      <td>virginamerica it realli aggress blast obnoxi entertain in your guest face amp they have littl recours</td>\n",
       "      <td>virginamerica it really aggressive blast obnoxious entertainment in your guest face amp they have little recourse</td>\n",
       "      <td>virginamerica it really aggressive blast obnoxious entertainment in your guest face amp they have little recourse</td>\n",
       "    </tr>\n",
       "    <tr>\n",
       "      <th>4</th>\n",
       "      <td>negative</td>\n",
       "      <td>@VirginAmerica and it's a really big bad thing about it</td>\n",
       "      <td>@virginamerica and it's a really big bad thing about it</td>\n",
       "      <td>virginamerica and its really big bad thing about it</td>\n",
       "      <td>virginamerica and its really big bad thing about it</td>\n",
       "      <td>virginamerica and it realli big bad thing about it</td>\n",
       "      <td>virginamerica and it really big bad thing about it</td>\n",
       "      <td>virginamerica and it really big bad thing about it</td>\n",
       "    </tr>\n",
       "  </tbody>\n",
       "</table>\n",
       "</div>"
      ],
      "text/plain": [
       "  airline_sentiment  ...                                                                                                       text_r_emoji\n",
       "0  neutral           ...  virginamerica what dhepburn say                                                                                  \n",
       "1  positive          ...  virginamerica plus youve added commercial experience tacky                                                       \n",
       "2  neutral           ...  virginamerica didnt today must mean need take another trip                                                       \n",
       "3  negative          ...  virginamerica it really aggressive blast obnoxious entertainment in your guest face amp they have little recourse\n",
       "4  negative          ...  virginamerica and it really big bad thing about it                                                               \n",
       "\n",
       "[5 rows x 8 columns]"
      ]
     },
     "execution_count": 92,
     "metadata": {
      "tags": []
     },
     "output_type": "execute_result"
    }
   ],
   "source": [
    "df[\"text_r_emoji\"] = df[\"text_lemmatized\"].apply(lambda string: remove_emoji(string))\n",
    "df.head()"
   ]
  },
  {
   "cell_type": "code",
   "execution_count": 93,
   "metadata": {
    "colab": {
     "base_uri": "https://localhost:8080/",
     "height": 582
    },
    "colab_type": "code",
    "id": "oS_37tP-hfRo",
    "outputId": "89299954-e6b8-47cf-883b-7dfc0e658faf"
   },
   "outputs": [
    {
     "data": {
      "text/html": [
       "<div>\n",
       "<style scoped>\n",
       "    .dataframe tbody tr th:only-of-type {\n",
       "        vertical-align: middle;\n",
       "    }\n",
       "\n",
       "    .dataframe tbody tr th {\n",
       "        vertical-align: top;\n",
       "    }\n",
       "\n",
       "    .dataframe thead th {\n",
       "        text-align: right;\n",
       "    }\n",
       "</style>\n",
       "<table border=\"1\" class=\"dataframe\">\n",
       "  <thead>\n",
       "    <tr style=\"text-align: right;\">\n",
       "      <th></th>\n",
       "      <th>airline_sentiment</th>\n",
       "      <th>text</th>\n",
       "      <th>text_lower</th>\n",
       "      <th>text_wo_stopfreq</th>\n",
       "      <th>text_wo_freqrare</th>\n",
       "      <th>text_stemmed</th>\n",
       "      <th>text_lemmatized</th>\n",
       "      <th>text_r_emoji</th>\n",
       "    </tr>\n",
       "  </thead>\n",
       "  <tbody>\n",
       "    <tr>\n",
       "      <th>0</th>\n",
       "      <td>neutral</td>\n",
       "      <td>@VirginAmerica What @dhepburn said.</td>\n",
       "      <td>@virginamerica what @dhepburn said.</td>\n",
       "      <td>virginamerica what dhepburn said</td>\n",
       "      <td>virginamerica what dhepburn said</td>\n",
       "      <td>virginamerica what dhepburn said</td>\n",
       "      <td>virginamerica what dhepburn say</td>\n",
       "      <td>virginamerica what dhepburn say</td>\n",
       "    </tr>\n",
       "    <tr>\n",
       "      <th>1</th>\n",
       "      <td>positive</td>\n",
       "      <td>@VirginAmerica plus you've added commercials to the experience... tacky.</td>\n",
       "      <td>@virginamerica plus you've added commercials to the experience... tacky.</td>\n",
       "      <td>virginamerica plus youve added commercials experience tacky</td>\n",
       "      <td>virginamerica plus youve added commercials experience tacky</td>\n",
       "      <td>virginamerica plu youv ad commerci experi tacki</td>\n",
       "      <td>virginamerica plus youve added commercial experience tacky</td>\n",
       "      <td>virginamerica plus youve added commercial experience tacky</td>\n",
       "    </tr>\n",
       "    <tr>\n",
       "      <th>2</th>\n",
       "      <td>neutral</td>\n",
       "      <td>@VirginAmerica I didn't today... Must mean I need to take another trip!</td>\n",
       "      <td>@virginamerica i didn't today... must mean i need to take another trip!</td>\n",
       "      <td>virginamerica didnt today must mean need take another trip</td>\n",
       "      <td>virginamerica didnt today must mean need take another trip</td>\n",
       "      <td>virginamerica didnt today must mean need take anoth trip</td>\n",
       "      <td>virginamerica didnt today must mean need take another trip</td>\n",
       "      <td>virginamerica didnt today must mean need take another trip</td>\n",
       "    </tr>\n",
       "    <tr>\n",
       "      <th>3</th>\n",
       "      <td>negative</td>\n",
       "      <td>@VirginAmerica it's really aggressive to blast obnoxious \"entertainment\" in your guests' faces &amp;amp; they have little recourse</td>\n",
       "      <td>@virginamerica it's really aggressive to blast obnoxious \"entertainment\" in your guests' faces &amp;amp; they have little recourse</td>\n",
       "      <td>virginamerica its really aggressive blast obnoxious entertainment in your guests faces amp they have little recourse</td>\n",
       "      <td>virginamerica its really aggressive blast obnoxious entertainment in your guests faces amp they have little recourse</td>\n",
       "      <td>virginamerica it realli aggress blast obnoxi entertain in your guest face amp they have littl recours</td>\n",
       "      <td>virginamerica it really aggressive blast obnoxious entertainment in your guest face amp they have little recourse</td>\n",
       "      <td>virginamerica it really aggressive blast obnoxious entertainment in your guest face amp they have little recourse</td>\n",
       "    </tr>\n",
       "    <tr>\n",
       "      <th>4</th>\n",
       "      <td>negative</td>\n",
       "      <td>@VirginAmerica and it's a really big bad thing about it</td>\n",
       "      <td>@virginamerica and it's a really big bad thing about it</td>\n",
       "      <td>virginamerica and its really big bad thing about it</td>\n",
       "      <td>virginamerica and its really big bad thing about it</td>\n",
       "      <td>virginamerica and it realli big bad thing about it</td>\n",
       "      <td>virginamerica and it really big bad thing about it</td>\n",
       "      <td>virginamerica and it really big bad thing about it</td>\n",
       "    </tr>\n",
       "  </tbody>\n",
       "</table>\n",
       "</div>"
      ],
      "text/plain": [
       "  airline_sentiment  ...                                                                                                       text_r_emoji\n",
       "0  neutral           ...  virginamerica what dhepburn say                                                                                  \n",
       "1  positive          ...  virginamerica plus youve added commercial experience tacky                                                       \n",
       "2  neutral           ...  virginamerica didnt today must mean need take another trip                                                       \n",
       "3  negative          ...  virginamerica it really aggressive blast obnoxious entertainment in your guest face amp they have little recourse\n",
       "4  negative          ...  virginamerica and it really big bad thing about it                                                               \n",
       "\n",
       "[5 rows x 8 columns]"
      ]
     },
     "execution_count": 93,
     "metadata": {
      "tags": []
     },
     "output_type": "execute_result"
    }
   ],
   "source": [
    "df.head()"
   ]
  },
  {
   "cell_type": "code",
   "execution_count": 0,
   "metadata": {
    "colab": {},
    "colab_type": "code",
    "id": "Yo5fY9aarShN"
   },
   "outputs": [],
   "source": [
    "df[\"text_r_emoti\"] = df[\"text_r_emoji\"].apply(lambda text: remove_emoticons(text))"
   ]
  },
  {
   "cell_type": "code",
   "execution_count": 0,
   "metadata": {
    "colab": {},
    "colab_type": "code",
    "id": "yAlonQpRrSv7"
   },
   "outputs": [],
   "source": [
    "df[\"text_url\"] = df[\"text_r_emoti\"].apply(lambda text: remove_urls(text))"
   ]
  },
  {
   "cell_type": "code",
   "execution_count": 0,
   "metadata": {
    "colab": {},
    "colab_type": "code",
    "id": "TH-kW0m5rS2S"
   },
   "outputs": [],
   "source": [
    "df[\"text_html\"] = df[\"text_url\"].apply(lambda text: remove_html(text))"
   ]
  },
  {
   "cell_type": "code",
   "execution_count": 97,
   "metadata": {
    "colab": {
     "base_uri": "https://localhost:8080/",
     "height": 918
    },
    "colab_type": "code",
    "id": "CPR1tt58rTKt",
    "outputId": "e7a361d5-49b8-4fa0-88bc-42709c38e66d"
   },
   "outputs": [
    {
     "data": {
      "text/html": [
       "<div>\n",
       "<style scoped>\n",
       "    .dataframe tbody tr th:only-of-type {\n",
       "        vertical-align: middle;\n",
       "    }\n",
       "\n",
       "    .dataframe tbody tr th {\n",
       "        vertical-align: top;\n",
       "    }\n",
       "\n",
       "    .dataframe thead th {\n",
       "        text-align: right;\n",
       "    }\n",
       "</style>\n",
       "<table border=\"1\" class=\"dataframe\">\n",
       "  <thead>\n",
       "    <tr style=\"text-align: right;\">\n",
       "      <th></th>\n",
       "      <th>airline_sentiment</th>\n",
       "      <th>text</th>\n",
       "      <th>text_lower</th>\n",
       "      <th>text_wo_stopfreq</th>\n",
       "      <th>text_wo_freqrare</th>\n",
       "      <th>text_stemmed</th>\n",
       "      <th>text_lemmatized</th>\n",
       "      <th>text_r_emoji</th>\n",
       "      <th>text_r_emoti</th>\n",
       "      <th>text_url</th>\n",
       "      <th>text_html</th>\n",
       "    </tr>\n",
       "  </thead>\n",
       "  <tbody>\n",
       "    <tr>\n",
       "      <th>0</th>\n",
       "      <td>neutral</td>\n",
       "      <td>@VirginAmerica What @dhepburn said.</td>\n",
       "      <td>@virginamerica what @dhepburn said.</td>\n",
       "      <td>virginamerica what dhepburn said</td>\n",
       "      <td>virginamerica what dhepburn said</td>\n",
       "      <td>virginamerica what dhepburn said</td>\n",
       "      <td>virginamerica what dhepburn say</td>\n",
       "      <td>virginamerica what dhepburn say</td>\n",
       "      <td>virginamerica what dhepburn say</td>\n",
       "      <td>virginamerica what dhepburn say</td>\n",
       "      <td>virginamerica what dhepburn say</td>\n",
       "    </tr>\n",
       "    <tr>\n",
       "      <th>1</th>\n",
       "      <td>positive</td>\n",
       "      <td>@VirginAmerica plus you've added commercials to the experience... tacky.</td>\n",
       "      <td>@virginamerica plus you've added commercials to the experience... tacky.</td>\n",
       "      <td>virginamerica plus youve added commercials experience tacky</td>\n",
       "      <td>virginamerica plus youve added commercials experience tacky</td>\n",
       "      <td>virginamerica plu youv ad commerci experi tacki</td>\n",
       "      <td>virginamerica plus youve added commercial experience tacky</td>\n",
       "      <td>virginamerica plus youve added commercial experience tacky</td>\n",
       "      <td>virginamerica plus youve added commercial experience tacky</td>\n",
       "      <td>virginamerica plus youve added commercial experience tacky</td>\n",
       "      <td>virginamerica plus youve added commercial experience tacky</td>\n",
       "    </tr>\n",
       "    <tr>\n",
       "      <th>2</th>\n",
       "      <td>neutral</td>\n",
       "      <td>@VirginAmerica I didn't today... Must mean I need to take another trip!</td>\n",
       "      <td>@virginamerica i didn't today... must mean i need to take another trip!</td>\n",
       "      <td>virginamerica didnt today must mean need take another trip</td>\n",
       "      <td>virginamerica didnt today must mean need take another trip</td>\n",
       "      <td>virginamerica didnt today must mean need take anoth trip</td>\n",
       "      <td>virginamerica didnt today must mean need take another trip</td>\n",
       "      <td>virginamerica didnt today must mean need take another trip</td>\n",
       "      <td>virginamerica didnt today must mean need take another trip</td>\n",
       "      <td>virginamerica didnt today must mean need take another trip</td>\n",
       "      <td>virginamerica didnt today must mean need take another trip</td>\n",
       "    </tr>\n",
       "    <tr>\n",
       "      <th>3</th>\n",
       "      <td>negative</td>\n",
       "      <td>@VirginAmerica it's really aggressive to blast obnoxious \"entertainment\" in your guests' faces &amp;amp; they have little recourse</td>\n",
       "      <td>@virginamerica it's really aggressive to blast obnoxious \"entertainment\" in your guests' faces &amp;amp; they have little recourse</td>\n",
       "      <td>virginamerica its really aggressive blast obnoxious entertainment in your guests faces amp they have little recourse</td>\n",
       "      <td>virginamerica its really aggressive blast obnoxious entertainment in your guests faces amp they have little recourse</td>\n",
       "      <td>virginamerica it realli aggress blast obnoxi entertain in your guest face amp they have littl recours</td>\n",
       "      <td>virginamerica it really aggressive blast obnoxious entertainment in your guest face amp they have little recourse</td>\n",
       "      <td>virginamerica it really aggressive blast obnoxious entertainment in your guest face amp they have little recourse</td>\n",
       "      <td>virginamerica it really aggressive blast obnoxious entertainment in your guest face amp they have little recourse</td>\n",
       "      <td>virginamerica it really aggressive blast obnoxious entertainment in your guest face amp they have little recourse</td>\n",
       "      <td>virginamerica it really aggressive blast obnoxious entertainment in your guest face amp they have little recourse</td>\n",
       "    </tr>\n",
       "    <tr>\n",
       "      <th>4</th>\n",
       "      <td>negative</td>\n",
       "      <td>@VirginAmerica and it's a really big bad thing about it</td>\n",
       "      <td>@virginamerica and it's a really big bad thing about it</td>\n",
       "      <td>virginamerica and its really big bad thing about it</td>\n",
       "      <td>virginamerica and its really big bad thing about it</td>\n",
       "      <td>virginamerica and it realli big bad thing about it</td>\n",
       "      <td>virginamerica and it really big bad thing about it</td>\n",
       "      <td>virginamerica and it really big bad thing about it</td>\n",
       "      <td>virginamerica and it really big bad thing about it</td>\n",
       "      <td>virginamerica and it really big bad thing about it</td>\n",
       "      <td>virginamerica and it really big bad thing about it</td>\n",
       "    </tr>\n",
       "    <tr>\n",
       "      <th>5</th>\n",
       "      <td>negative</td>\n",
       "      <td>@VirginAmerica seriously would pay $30 a flight for seats that didn't have this playing.\\nit's really the only bad thing about flying VA</td>\n",
       "      <td>@virginamerica seriously would pay $30 a flight for seats that didn't have this playing.\\nit's really the only bad thing about flying va</td>\n",
       "      <td>virginamerica seriously would pay 30 flight for seats that didnt have this playing its really only bad thing about flying va</td>\n",
       "      <td>virginamerica seriously would pay 30 flight for seats that didnt have this playing its really only bad thing about flying va</td>\n",
       "      <td>virginamerica serious would pay 30 flight for seat that didnt have thi play it realli onli bad thing about fli va</td>\n",
       "      <td>virginamerica seriously would pay 30 flight for seat that didnt have this play it really only bad thing about fly va</td>\n",
       "      <td>virginamerica seriously would pay 30 flight for seat that didnt have this play it really only bad thing about fly va</td>\n",
       "      <td>virginamerica seriously would pay 30 flight for seat that didnt have this play it really only bad thing about fly va</td>\n",
       "      <td>virginamerica seriously would pay 30 flight for seat that didnt have this play it really only bad thing about fly va</td>\n",
       "      <td>virginamerica seriously would pay 30 flight for seat that didnt have this play it really only bad thing about fly va</td>\n",
       "    </tr>\n",
       "    <tr>\n",
       "      <th>6</th>\n",
       "      <td>positive</td>\n",
       "      <td>@VirginAmerica yes, nearly every time I fly VX this “ear worm” won’t go away :)</td>\n",
       "      <td>@virginamerica yes, nearly every time i fly vx this “ear worm” won’t go away :)</td>\n",
       "      <td>virginamerica yes nearly every time fly vx this “ear worm” won’t go away</td>\n",
       "      <td>virginamerica yes nearly every time fly vx this “ear worm” won’t go away</td>\n",
       "      <td>virginamerica ye nearli everi time fli vx thi “ear worm” won’t go away</td>\n",
       "      <td>virginamerica yes nearly every time fly vx this “ear worm” won’t go away</td>\n",
       "      <td>virginamerica yes nearly every time fly vx this “ear worm” won’t go away</td>\n",
       "      <td>virginamerica yes nearly every time fly vx this “ear worm” won’t go away</td>\n",
       "      <td>virginamerica yes nearly every time fly vx this “ear worm” won’t go away</td>\n",
       "      <td>virginamerica yes nearly every time fly vx this “ear worm” won’t go away</td>\n",
       "    </tr>\n",
       "    <tr>\n",
       "      <th>7</th>\n",
       "      <td>neutral</td>\n",
       "      <td>@VirginAmerica Really missed a prime opportunity for Men Without Hats parody, there. https://t.co/mWpG7grEZP</td>\n",
       "      <td>@virginamerica really missed a prime opportunity for men without hats parody, there. https://t.co/mwpg7grezp</td>\n",
       "      <td>virginamerica really missed prime opportunity for men without hats parody there httpstcomwpg7grezp</td>\n",
       "      <td>virginamerica really missed prime opportunity for men without hats parody there httpstcomwpg7grezp</td>\n",
       "      <td>virginamerica realli miss prime opportun for men without hat parodi there httpstcomwpg7grezp</td>\n",
       "      <td>virginamerica really miss prime opportunity for men without hat parody there httpstcomwpg7grezp</td>\n",
       "      <td>virginamerica really miss prime opportunity for men without hat parody there httpstcomwpg7grezp</td>\n",
       "      <td>virginamerica really miss prime opportunity for men without hat parody there httpstcomwpg7grezp</td>\n",
       "      <td>virginamerica really miss prime opportunity for men without hat parody there httpstcomwpg7grezp</td>\n",
       "      <td>virginamerica really miss prime opportunity for men without hat parody there httpstcomwpg7grezp</td>\n",
       "    </tr>\n",
       "    <tr>\n",
       "      <th>8</th>\n",
       "      <td>positive</td>\n",
       "      <td>@virginamerica Well, I didn't…but NOW I DO! :-D</td>\n",
       "      <td>@virginamerica well, i didn't…but now i do! :-d</td>\n",
       "      <td>virginamerica well didnt…but now do d</td>\n",
       "      <td>virginamerica well didnt…but now do d</td>\n",
       "      <td>virginamerica well didnt…but now do d</td>\n",
       "      <td>virginamerica well didnt…but now do d</td>\n",
       "      <td>virginamerica well didnt…but now do d</td>\n",
       "      <td>virginamerica well didnt…but now do d</td>\n",
       "      <td>virginamerica well didnt…but now do d</td>\n",
       "      <td>virginamerica well didnt…but now do d</td>\n",
       "    </tr>\n",
       "    <tr>\n",
       "      <th>9</th>\n",
       "      <td>positive</td>\n",
       "      <td>@VirginAmerica it was amazing, and arrived an hour early. You're too good to me.</td>\n",
       "      <td>@virginamerica it was amazing, and arrived an hour early. you're too good to me.</td>\n",
       "      <td>virginamerica it was amazing and arrived an hour early youre too good me</td>\n",
       "      <td>virginamerica it was amazing and arrived an hour early youre too good me</td>\n",
       "      <td>virginamerica it wa amaz and arriv an hour earli your too good me</td>\n",
       "      <td>virginamerica it be amaze and arrive an hour early youre too good me</td>\n",
       "      <td>virginamerica it be amaze and arrive an hour early youre too good me</td>\n",
       "      <td>virginamerica it be amaze and arrive an hour early youre too good me</td>\n",
       "      <td>virginamerica it be amaze and arrive an hour early youre too good me</td>\n",
       "      <td>virginamerica it be amaze and arrive an hour early youre too good me</td>\n",
       "    </tr>\n",
       "  </tbody>\n",
       "</table>\n",
       "</div>"
      ],
      "text/plain": [
       "  airline_sentiment  ...                                                                                                             text_html\n",
       "0  neutral           ...  virginamerica what dhepburn say                                                                                     \n",
       "1  positive          ...  virginamerica plus youve added commercial experience tacky                                                          \n",
       "2  neutral           ...  virginamerica didnt today must mean need take another trip                                                          \n",
       "3  negative          ...  virginamerica it really aggressive blast obnoxious entertainment in your guest face amp they have little recourse   \n",
       "4  negative          ...  virginamerica and it really big bad thing about it                                                                  \n",
       "5  negative          ...  virginamerica seriously would pay 30 flight for seat that didnt have this play it really only bad thing about fly va\n",
       "6  positive          ...  virginamerica yes nearly every time fly vx this “ear worm” won’t go away                                            \n",
       "7  neutral           ...  virginamerica really miss prime opportunity for men without hat parody there httpstcomwpg7grezp                     \n",
       "8  positive          ...  virginamerica well didnt…but now do d                                                                               \n",
       "9  positive          ...  virginamerica it be amaze and arrive an hour early youre too good me                                                \n",
       "\n",
       "[10 rows x 11 columns]"
      ]
     },
     "execution_count": 97,
     "metadata": {
      "tags": []
     },
     "output_type": "execute_result"
    }
   ],
   "source": [
    "df.head(10)"
   ]
  },
  {
   "cell_type": "markdown",
   "metadata": {},
   "source": [
    "## Dropping Unnecessary Columns"
   ]
  },
  {
   "cell_type": "code",
   "execution_count": 0,
   "metadata": {
    "colab": {},
    "colab_type": "code",
    "id": "6wkBriQGjBJG"
   },
   "outputs": [],
   "source": [
    "df.drop([\"text\",\"text_lower\",\"text_wo_stopfreq\",\"text_wo_freqrare\",\"text_stemmed\",\"text_lemmatized\",\"text_r_emoji\",\"text_r_emoti\",\"text_url\"], axis=1, inplace=True) "
   ]
  },
  {
   "cell_type": "code",
   "execution_count": 99,
   "metadata": {
    "colab": {
     "base_uri": "https://localhost:8080/",
     "height": 343
    },
    "colab_type": "code",
    "id": "wceH9YKLlFTM",
    "outputId": "406df8ab-ab4d-4b26-c637-16c0a63d5298"
   },
   "outputs": [
    {
     "data": {
      "text/html": [
       "<div>\n",
       "<style scoped>\n",
       "    .dataframe tbody tr th:only-of-type {\n",
       "        vertical-align: middle;\n",
       "    }\n",
       "\n",
       "    .dataframe tbody tr th {\n",
       "        vertical-align: top;\n",
       "    }\n",
       "\n",
       "    .dataframe thead th {\n",
       "        text-align: right;\n",
       "    }\n",
       "</style>\n",
       "<table border=\"1\" class=\"dataframe\">\n",
       "  <thead>\n",
       "    <tr style=\"text-align: right;\">\n",
       "      <th></th>\n",
       "      <th>airline_sentiment</th>\n",
       "      <th>text_html</th>\n",
       "    </tr>\n",
       "  </thead>\n",
       "  <tbody>\n",
       "    <tr>\n",
       "      <th>0</th>\n",
       "      <td>neutral</td>\n",
       "      <td>virginamerica what dhepburn say</td>\n",
       "    </tr>\n",
       "    <tr>\n",
       "      <th>1</th>\n",
       "      <td>positive</td>\n",
       "      <td>virginamerica plus youve added commercial experience tacky</td>\n",
       "    </tr>\n",
       "    <tr>\n",
       "      <th>2</th>\n",
       "      <td>neutral</td>\n",
       "      <td>virginamerica didnt today must mean need take another trip</td>\n",
       "    </tr>\n",
       "    <tr>\n",
       "      <th>3</th>\n",
       "      <td>negative</td>\n",
       "      <td>virginamerica it really aggressive blast obnoxious entertainment in your guest face amp they have little recourse</td>\n",
       "    </tr>\n",
       "    <tr>\n",
       "      <th>4</th>\n",
       "      <td>negative</td>\n",
       "      <td>virginamerica and it really big bad thing about it</td>\n",
       "    </tr>\n",
       "    <tr>\n",
       "      <th>5</th>\n",
       "      <td>negative</td>\n",
       "      <td>virginamerica seriously would pay 30 flight for seat that didnt have this play it really only bad thing about fly va</td>\n",
       "    </tr>\n",
       "    <tr>\n",
       "      <th>6</th>\n",
       "      <td>positive</td>\n",
       "      <td>virginamerica yes nearly every time fly vx this “ear worm” won’t go away</td>\n",
       "    </tr>\n",
       "    <tr>\n",
       "      <th>7</th>\n",
       "      <td>neutral</td>\n",
       "      <td>virginamerica really miss prime opportunity for men without hat parody there httpstcomwpg7grezp</td>\n",
       "    </tr>\n",
       "    <tr>\n",
       "      <th>8</th>\n",
       "      <td>positive</td>\n",
       "      <td>virginamerica well didnt…but now do d</td>\n",
       "    </tr>\n",
       "    <tr>\n",
       "      <th>9</th>\n",
       "      <td>positive</td>\n",
       "      <td>virginamerica it be amaze and arrive an hour early youre too good me</td>\n",
       "    </tr>\n",
       "  </tbody>\n",
       "</table>\n",
       "</div>"
      ],
      "text/plain": [
       "  airline_sentiment                                                                                                             text_html\n",
       "0  neutral           virginamerica what dhepburn say                                                                                     \n",
       "1  positive          virginamerica plus youve added commercial experience tacky                                                          \n",
       "2  neutral           virginamerica didnt today must mean need take another trip                                                          \n",
       "3  negative          virginamerica it really aggressive blast obnoxious entertainment in your guest face amp they have little recourse   \n",
       "4  negative          virginamerica and it really big bad thing about it                                                                  \n",
       "5  negative          virginamerica seriously would pay 30 flight for seat that didnt have this play it really only bad thing about fly va\n",
       "6  positive          virginamerica yes nearly every time fly vx this “ear worm” won’t go away                                            \n",
       "7  neutral           virginamerica really miss prime opportunity for men without hat parody there httpstcomwpg7grezp                     \n",
       "8  positive          virginamerica well didnt…but now do d                                                                               \n",
       "9  positive          virginamerica it be amaze and arrive an hour early youre too good me                                                "
      ]
     },
     "execution_count": 99,
     "metadata": {
      "tags": []
     },
     "output_type": "execute_result"
    }
   ],
   "source": [
    "df.head(10)"
   ]
  },
  {
   "cell_type": "markdown",
   "metadata": {},
   "source": [
    "## Splitting into Trainig and Validation Set"
   ]
  },
  {
   "cell_type": "code",
   "execution_count": 0,
   "metadata": {
    "colab": {},
    "colab_type": "code",
    "id": "6685RTnzlG08"
   },
   "outputs": [],
   "source": [
    "train, valid = train_test_split(df, test_size=0.2)\n",
    "moms = (0.8,0.7)\n",
    "wd = 0.1"
   ]
  },
  {
   "cell_type": "code",
   "execution_count": 101,
   "metadata": {
    "colab": {
     "base_uri": "https://localhost:8080/",
     "height": 34
    },
    "colab_type": "code",
    "id": "PrFHKXRclNvD",
    "outputId": "6f8aebd4-9015-4d6b-fda0-a66803c78840"
   },
   "outputs": [
    {
     "data": {
      "text/plain": [
       "(14640, 2)"
      ]
     },
     "execution_count": 101,
     "metadata": {
      "tags": []
     },
     "output_type": "execute_result"
    }
   ],
   "source": [
    "df.shape"
   ]
  },
  {
   "cell_type": "code",
   "execution_count": 102,
   "metadata": {
    "colab": {
     "base_uri": "https://localhost:8080/",
     "height": 34
    },
    "colab_type": "code",
    "id": "IghLma5PlPL-",
    "outputId": "31911b01-beac-47f0-82c9-0590db922823"
   },
   "outputs": [
    {
     "data": {
      "text/plain": [
       "(11712, 2)"
      ]
     },
     "execution_count": 102,
     "metadata": {
      "tags": []
     },
     "output_type": "execute_result"
    }
   ],
   "source": [
    "train.shape"
   ]
  },
  {
   "cell_type": "markdown",
   "metadata": {},
   "source": [
    "### Defining a Working Path"
   ]
  },
  {
   "cell_type": "code",
   "execution_count": 0,
   "metadata": {
    "colab": {},
    "colab_type": "code",
    "id": "g8moiJeulSX3"
   },
   "outputs": [],
   "source": [
    "working_path = Path('./').resolve() # fastai needs a working path\n",
    "data_lm = TextLMDataBunch.from_df(working_path, train, valid) # form the data bunch\n",
    "learn = language_model_learner(data_lm, AWD_LSTM, drop_mult=0.3) # this fetches the wiki103 model"
   ]
  },
  {
   "cell_type": "code",
   "execution_count": 0,
   "metadata": {
    "colab": {},
    "colab_type": "code",
    "id": "mrWZ6iOolWMa"
   },
   "outputs": [],
   "source": [
    "learn.freeze()"
   ]
  },
  {
   "cell_type": "code",
   "execution_count": 105,
   "metadata": {
    "colab": {
     "base_uri": "https://localhost:8080/",
     "height": 297
    },
    "colab_type": "code",
    "id": "SY3X4x7klaYs",
    "outputId": "bb228fb5-811d-42f9-c8be-5a95c8c9f003"
   },
   "outputs": [
    {
     "data": {
      "text/html": [],
      "text/plain": [
       "<IPython.core.display.HTML object>"
      ]
     },
     "metadata": {
      "tags": []
     },
     "output_type": "display_data"
    },
    {
     "name": "stdout",
     "output_type": "stream",
     "text": [
      "LR Finder is complete, type {learner_name}.recorder.plot() to see the graph.\n"
     ]
    },
    {
     "data": {
      "image/png": "[encoded data removed]",
      "text/plain": [
       "<Figure size 432x288 with 1 Axes>"
      ]
     },
     "metadata": {
      "tags": []
     },
     "output_type": "display_data"
    }
   ],
   "source": [
    "learn.lr_find()\n",
    "learn.recorder.plot()"
   ]
  },
  {
   "cell_type": "code",
   "execution_count": 106,
   "metadata": {
    "colab": {
     "base_uri": "https://localhost:8080/",
     "height": 77
    },
    "colab_type": "code",
    "id": "mUtXdNowldVV",
    "outputId": "24fb3c02-8477-449d-958b-30249ecc94a6"
   },
   "outputs": [
    {
     "data": {
      "text/html": [
       "<table border=\"1\" class=\"dataframe\">\n",
       "  <thead>\n",
       "    <tr style=\"text-align: left;\">\n",
       "      <th>epoch</th>\n",
       "      <th>train_loss</th>\n",
       "      <th>valid_loss</th>\n",
       "      <th>accuracy</th>\n",
       "      <th>time</th>\n",
       "    </tr>\n",
       "  </thead>\n",
       "  <tbody>\n",
       "    <tr>\n",
       "      <td>0</td>\n",
       "      <td>5.506296</td>\n",
       "      <td>4.878209</td>\n",
       "      <td>0.179322</td>\n",
       "      <td>00:04</td>\n",
       "    </tr>\n",
       "  </tbody>\n",
       "</table>"
      ],
      "text/plain": [
       "<IPython.core.display.HTML object>"
      ]
     },
     "metadata": {
      "tags": []
     },
     "output_type": "display_data"
    }
   ],
   "source": [
    "learn.fit_one_cycle(1, 5.0E-02, moms=moms, wd=wd)"
   ]
  },
  {
   "cell_type": "code",
   "execution_count": 0,
   "metadata": {
    "colab": {},
    "colab_type": "code",
    "id": "ChTNN2O6lh3o"
   },
   "outputs": [],
   "source": [
    "learn.unfreeze()"
   ]
  },
  {
   "cell_type": "code",
   "execution_count": 108,
   "metadata": {
    "colab": {
     "base_uri": "https://localhost:8080/",
     "height": 136
    },
    "colab_type": "code",
    "id": "-79ByP7WlkvG",
    "outputId": "32c9527b-2127-4038-8b50-50121acf81fc"
   },
   "outputs": [
    {
     "data": {
      "text/html": [
       "<table border=\"1\" class=\"dataframe\">\n",
       "  <thead>\n",
       "    <tr style=\"text-align: left;\">\n",
       "      <th>epoch</th>\n",
       "      <th>train_loss</th>\n",
       "      <th>valid_loss</th>\n",
       "      <th>accuracy</th>\n",
       "      <th>time</th>\n",
       "    </tr>\n",
       "  </thead>\n",
       "  <tbody>\n",
       "    <tr>\n",
       "      <td>0</td>\n",
       "      <td>4.701272</td>\n",
       "      <td>4.706405</td>\n",
       "      <td>0.192817</td>\n",
       "      <td>00:05</td>\n",
       "    </tr>\n",
       "    <tr>\n",
       "      <td>1</td>\n",
       "      <td>4.395278</td>\n",
       "      <td>4.601561</td>\n",
       "      <td>0.207934</td>\n",
       "      <td>00:05</td>\n",
       "    </tr>\n",
       "    <tr>\n",
       "      <td>2</td>\n",
       "      <td>3.828188</td>\n",
       "      <td>4.709075</td>\n",
       "      <td>0.208300</td>\n",
       "      <td>00:05</td>\n",
       "    </tr>\n",
       "  </tbody>\n",
       "</table>"
      ],
      "text/plain": [
       "<IPython.core.display.HTML object>"
      ]
     },
     "metadata": {
      "tags": []
     },
     "output_type": "display_data"
    }
   ],
   "source": [
    "learn.fit_one_cycle(3, 5.0E-03, moms=moms, wd=wd)"
   ]
  },
  {
   "cell_type": "markdown",
   "metadata": {},
   "source": [
    "### Predicting with Learning Model"
   ]
  },
  {
   "cell_type": "code",
   "execution_count": 109,
   "metadata": {
    "colab": {
     "base_uri": "https://localhost:8080/",
     "height": 54
    },
    "colab_type": "code",
    "id": "LqMpBzcxloTc",
    "outputId": "fe8ed708-34dc-40d0-fec3-20940e22b5fb"
   },
   "outputs": [
    {
     "data": {
      "text/plain": [
       "'My flight is great! this wifi be just promo kick me from hour incoming clear xxbos southwestair your new phone system suck relate flightd'"
      ]
     },
     "execution_count": 109,
     "metadata": {
      "tags": []
     },
     "output_type": "execute_result"
    }
   ],
   "source": [
    "learn.predict('My flight is great!', n_words=20)"
   ]
  },
  {
   "cell_type": "code",
   "execution_count": 0,
   "metadata": {
    "colab": {},
    "colab_type": "code",
    "id": "_UK2CsJWlsKj"
   },
   "outputs": [],
   "source": [
    "learn.save_encoder('ft_enc')"
   ]
  },
  {
   "cell_type": "code",
   "execution_count": 0,
   "metadata": {
    "colab": {},
    "colab_type": "code",
    "id": "uciBAP87lvK9"
   },
   "outputs": [],
   "source": [
    "train_valid, test = train_test_split(df, test_size=0.2)\n",
    "train, valid = train_test_split(train_valid, test_size=0.2)"
   ]
  },
  {
   "cell_type": "code",
   "execution_count": 0,
   "metadata": {
    "colab": {},
    "colab_type": "code",
    "id": "CIZcXbAblxfb"
   },
   "outputs": [],
   "source": [
    "data_clas = TextClasDataBunch.from_df(working_path, train, valid, test_df=test, vocab=data_lm.train_ds.vocab, text_cols='text_html', label_cols='airline_sentiment', bs=32)"
   ]
  },
  {
   "cell_type": "code",
   "execution_count": 115,
   "metadata": {
    "colab": {
     "base_uri": "https://localhost:8080/",
     "height": 195
    },
    "colab_type": "code",
    "id": "JG1aICHplzaj",
    "outputId": "d06b297a-5030-43b9-c5a7-8839b46f715c"
   },
   "outputs": [
    {
     "data": {
      "text/html": [
       "<table border=\"1\" class=\"dataframe\">\n",
       "  <thead>\n",
       "    <tr style=\"text-align: right;\">\n",
       "      <th>text</th>\n",
       "      <th>target</th>\n",
       "    </tr>\n",
       "  </thead>\n",
       "  <tbody>\n",
       "    <tr>\n",
       "      <td>xxbos southwestair twitter cust svc rule 1 do nt say if we fell short just tell u u do 2 if u ca nt solve problem do nt say anything at all</td>\n",
       "      <td>negative</td>\n",
       "    </tr>\n",
       "    <tr>\n",
       "      <td>xxbos jetblue jetblue but be on flt xxunk from fll sfo xxunk off be over 1 hr late flight div phx amp get in 2 hr late flight what will be do</td>\n",
       "      <td>negative</td>\n",
       "    </tr>\n",
       "    <tr>\n",
       "      <td>xxbos usairways be on xxunk for 1hr and xxunk at xxunk since my flgt from dca msy be cancel flightled still try get out on hold now 50min xxrep 4 s</td>\n",
       "      <td>negative</td>\n",
       "    </tr>\n",
       "    <tr>\n",
       "      <td>xxbos ha … rebooked me in an 11 hr layover amp be rob me of night with my family too late flight for that just fly on time for once</td>\n",
       "      <td>negative</td>\n",
       "    </tr>\n",
       "    <tr>\n",
       "      <td>xxbos usairways 4 segment xxunk delay xxunk gt ctl ctl gt jan jan gt ctl ctl gt xxunk my year off from fly with guy be way go</td>\n",
       "      <td>negative</td>\n",
       "    </tr>\n",
       "  </tbody>\n",
       "</table>"
      ],
      "text/plain": [
       "<IPython.core.display.HTML object>"
      ]
     },
     "metadata": {
      "tags": []
     },
     "output_type": "display_data"
    }
   ],
   "source": [
    "data_clas.show_batch()"
   ]
  },
  {
   "cell_type": "code",
   "execution_count": 0,
   "metadata": {
    "colab": {},
    "colab_type": "code",
    "id": "eEI7hsH5l9bn"
   },
   "outputs": [],
   "source": [
    "learn = text_classifier_learner(data_clas, AWD_LSTM, drop_mult=0.5)\n",
    "learn.load_encoder('ft_enc')\n",
    "learn.freeze()"
   ]
  },
  {
   "cell_type": "code",
   "execution_count": 117,
   "metadata": {
    "colab": {
     "base_uri": "https://localhost:8080/",
     "height": 297
    },
    "colab_type": "code",
    "id": "1dNbe5-0mAtO",
    "outputId": "d613b01f-21c1-49d1-8a22-2b8d56aedb25"
   },
   "outputs": [
    {
     "data": {
      "text/html": [],
      "text/plain": [
       "<IPython.core.display.HTML object>"
      ]
     },
     "metadata": {
      "tags": []
     },
     "output_type": "display_data"
    },
    {
     "name": "stdout",
     "output_type": "stream",
     "text": [
      "LR Finder is complete, type {learner_name}.recorder.plot() to see the graph.\n"
     ]
    },
    {
     "data": {
      "image/png": "[encoded data removed]",
      "text/plain": [
       "<Figure size 432x288 with 1 Axes>"
      ]
     },
     "metadata": {
      "tags": []
     },
     "output_type": "display_data"
    }
   ],
   "source": [
    "learn.lr_find()\n",
    "learn.recorder.plot()"
   ]
  },
  {
   "cell_type": "code",
   "execution_count": 118,
   "metadata": {
    "colab": {
     "base_uri": "https://localhost:8080/",
     "height": 106
    },
    "colab_type": "code",
    "id": "3b5a6AgvmCV8",
    "outputId": "9787c46a-267e-459d-cd51-603360b4a1d7"
   },
   "outputs": [
    {
     "data": {
      "text/html": [
       "<table border=\"1\" class=\"dataframe\">\n",
       "  <thead>\n",
       "    <tr style=\"text-align: left;\">\n",
       "      <th>epoch</th>\n",
       "      <th>train_loss</th>\n",
       "      <th>valid_loss</th>\n",
       "      <th>accuracy</th>\n",
       "      <th>time</th>\n",
       "    </tr>\n",
       "  </thead>\n",
       "  <tbody>\n",
       "    <tr>\n",
       "      <td>0</td>\n",
       "      <td>0.792638</td>\n",
       "      <td>0.658274</td>\n",
       "      <td>0.720871</td>\n",
       "      <td>00:03</td>\n",
       "    </tr>\n",
       "    <tr>\n",
       "      <td>1</td>\n",
       "      <td>0.711299</td>\n",
       "      <td>0.562097</td>\n",
       "      <td>0.778489</td>\n",
       "      <td>00:04</td>\n",
       "    </tr>\n",
       "  </tbody>\n",
       "</table>"
      ],
      "text/plain": [
       "<IPython.core.display.HTML object>"
      ]
     },
     "metadata": {
      "tags": []
     },
     "output_type": "display_data"
    }
   ],
   "source": [
    "lr = 5E-02\n",
    "learn.fit_one_cycle(2, lr, moms=moms, wd=wd)"
   ]
  },
  {
   "cell_type": "code",
   "execution_count": 119,
   "metadata": {
    "colab": {
     "base_uri": "https://localhost:8080/",
     "height": 136
    },
    "colab_type": "code",
    "id": "pK6q9LiAmE0b",
    "outputId": "04ca2999-a21b-4b60-fd46-634dafa6bb44"
   },
   "outputs": [
    {
     "data": {
      "text/html": [
       "<table border=\"1\" class=\"dataframe\">\n",
       "  <thead>\n",
       "    <tr style=\"text-align: left;\">\n",
       "      <th>epoch</th>\n",
       "      <th>train_loss</th>\n",
       "      <th>valid_loss</th>\n",
       "      <th>accuracy</th>\n",
       "      <th>time</th>\n",
       "    </tr>\n",
       "  </thead>\n",
       "  <tbody>\n",
       "    <tr>\n",
       "      <td>0</td>\n",
       "      <td>0.651323</td>\n",
       "      <td>0.653240</td>\n",
       "      <td>0.743064</td>\n",
       "      <td>00:04</td>\n",
       "    </tr>\n",
       "    <tr>\n",
       "      <td>1</td>\n",
       "      <td>0.616504</td>\n",
       "      <td>0.507839</td>\n",
       "      <td>0.801110</td>\n",
       "      <td>00:04</td>\n",
       "    </tr>\n",
       "    <tr>\n",
       "      <td>2</td>\n",
       "      <td>0.548968</td>\n",
       "      <td>0.489003</td>\n",
       "      <td>0.807512</td>\n",
       "      <td>00:04</td>\n",
       "    </tr>\n",
       "  </tbody>\n",
       "</table>"
      ],
      "text/plain": [
       "<IPython.core.display.HTML object>"
      ]
     },
     "metadata": {
      "tags": []
     },
     "output_type": "display_data"
    }
   ],
   "source": [
    "learn.freeze_to(-2)\n",
    "lr /= 2\n",
    "learn.fit_one_cycle(3, slice(lr/(2.6**4), lr), moms=moms, wd=wd)"
   ]
  },
  {
   "cell_type": "code",
   "execution_count": 120,
   "metadata": {
    "colab": {
     "base_uri": "https://localhost:8080/",
     "height": 136
    },
    "colab_type": "code",
    "id": "Xq5VIQMQmJov",
    "outputId": "f54902b6-f63f-432f-81dc-b47e4d386895"
   },
   "outputs": [
    {
     "data": {
      "text/html": [
       "<table border=\"1\" class=\"dataframe\">\n",
       "  <thead>\n",
       "    <tr style=\"text-align: left;\">\n",
       "      <th>epoch</th>\n",
       "      <th>train_loss</th>\n",
       "      <th>valid_loss</th>\n",
       "      <th>accuracy</th>\n",
       "      <th>time</th>\n",
       "    </tr>\n",
       "  </thead>\n",
       "  <tbody>\n",
       "    <tr>\n",
       "      <td>0</td>\n",
       "      <td>0.566978</td>\n",
       "      <td>0.502024</td>\n",
       "      <td>0.793854</td>\n",
       "      <td>00:06</td>\n",
       "    </tr>\n",
       "    <tr>\n",
       "      <td>1</td>\n",
       "      <td>0.510714</td>\n",
       "      <td>0.492011</td>\n",
       "      <td>0.805805</td>\n",
       "      <td>00:06</td>\n",
       "    </tr>\n",
       "    <tr>\n",
       "      <td>2</td>\n",
       "      <td>0.368630</td>\n",
       "      <td>0.539144</td>\n",
       "      <td>0.806658</td>\n",
       "      <td>00:06</td>\n",
       "    </tr>\n",
       "  </tbody>\n",
       "</table>"
      ],
      "text/plain": [
       "<IPython.core.display.HTML object>"
      ]
     },
     "metadata": {
      "tags": []
     },
     "output_type": "display_data"
    }
   ],
   "source": [
    "learn.freeze_to(-3)\n",
    "lr /= 2\n",
    "learn.fit_one_cycle(3, slice(lr/(2.6**4), lr), moms=moms, wd=wd)"
   ]
  },
  {
   "cell_type": "code",
   "execution_count": 121,
   "metadata": {
    "colab": {
     "base_uri": "https://localhost:8080/",
     "height": 136
    },
    "colab_type": "code",
    "id": "c0lkzYI7mQHU",
    "outputId": "fbf93752-a020-43d4-ec97-c444d68fd778"
   },
   "outputs": [
    {
     "data": {
      "text/html": [
       "<table border=\"1\" class=\"dataframe\">\n",
       "  <thead>\n",
       "    <tr style=\"text-align: left;\">\n",
       "      <th>epoch</th>\n",
       "      <th>train_loss</th>\n",
       "      <th>valid_loss</th>\n",
       "      <th>accuracy</th>\n",
       "      <th>time</th>\n",
       "    </tr>\n",
       "  </thead>\n",
       "  <tbody>\n",
       "    <tr>\n",
       "      <td>0</td>\n",
       "      <td>0.283212</td>\n",
       "      <td>0.579273</td>\n",
       "      <td>0.806231</td>\n",
       "      <td>00:08</td>\n",
       "    </tr>\n",
       "    <tr>\n",
       "      <td>1</td>\n",
       "      <td>0.265834</td>\n",
       "      <td>0.590552</td>\n",
       "      <td>0.807085</td>\n",
       "      <td>00:08</td>\n",
       "    </tr>\n",
       "    <tr>\n",
       "      <td>2</td>\n",
       "      <td>0.170052</td>\n",
       "      <td>0.589258</td>\n",
       "      <td>0.806658</td>\n",
       "      <td>00:08</td>\n",
       "    </tr>\n",
       "  </tbody>\n",
       "</table>"
      ],
      "text/plain": [
       "<IPython.core.display.HTML object>"
      ]
     },
     "metadata": {
      "tags": []
     },
     "output_type": "display_data"
    }
   ],
   "source": [
    "learn.unfreeze()\n",
    "lr /= 5\n",
    "learn.fit_one_cycle(3, slice(lr/(2.6**4), lr), moms=moms, wd=wd)"
   ]
  },
  {
   "cell_type": "code",
   "execution_count": 122,
   "metadata": {
    "colab": {
     "base_uri": "https://localhost:8080/",
     "height": 297
    },
    "colab_type": "code",
    "id": "scouov1RmUyJ",
    "outputId": "b436ba05-bda8-4672-dc9a-7176c4b880d0"
   },
   "outputs": [
    {
     "data": {
      "text/html": [],
      "text/plain": [
       "<IPython.core.display.HTML object>"
      ]
     },
     "metadata": {
      "tags": []
     },
     "output_type": "display_data"
    },
    {
     "name": "stdout",
     "output_type": "stream",
     "text": [
      "LR Finder is complete, type {learner_name}.recorder.plot() to see the graph.\n"
     ]
    },
    {
     "data": {
      "image/png": "[encoded data removed]",
      "text/plain": [
       "<Figure size 432x288 with 1 Axes>"
      ]
     },
     "metadata": {
      "tags": []
     },
     "output_type": "display_data"
    }
   ],
   "source": [
    "learn.lr_find()\n",
    "learn.recorder.plot()"
   ]
  },
  {
   "cell_type": "code",
   "execution_count": 123,
   "metadata": {
    "colab": {
     "base_uri": "https://localhost:8080/",
     "height": 34
    },
    "colab_type": "code",
    "id": "sTeBIRTgmkI9",
    "outputId": "22fadd0c-ac3d-4841-d254-e7997ff1729c"
   },
   "outputs": [
    {
     "data": {
      "text/plain": [
       "(Category positive, tensor(2), tensor([8.7523e-04, 4.7319e-03, 9.9439e-01]))"
      ]
     },
     "execution_count": 123,
     "metadata": {
      "tags": []
     },
     "output_type": "execute_result"
    }
   ],
   "source": [
    "learn.predict('I love flying')"
   ]
  },
  {
   "cell_type": "code",
   "execution_count": 124,
   "metadata": {
    "colab": {
     "base_uri": "https://localhost:8080/",
     "height": 34
    },
    "colab_type": "code",
    "id": "oB3FiHOAmrFF",
    "outputId": "d8f5a5b8-a2f3-499a-ba89-adf4e1a451eb"
   },
   "outputs": [
    {
     "data": {
      "text/plain": [
       "(Category negative, tensor(0), tensor([0.7681, 0.2276, 0.0043]))"
      ]
     },
     "execution_count": 124,
     "metadata": {
      "tags": []
     },
     "output_type": "execute_result"
    }
   ],
   "source": [
    "learn.predict('My flight was delayed')"
   ]
  },
  {
   "cell_type": "code",
   "execution_count": 125,
   "metadata": {
    "colab": {
     "base_uri": "https://localhost:8080/",
     "height": 34
    },
    "colab_type": "code",
    "id": "DmLBtx7xmuzY",
    "outputId": "fa0c3760-a9c2-4100-c5bb-f6e79d36c569"
   },
   "outputs": [
    {
     "data": {
      "text/plain": [
       "(Category positive, tensor(2), tensor([0.1233, 0.2479, 0.6288]))"
      ]
     },
     "execution_count": 125,
     "metadata": {
      "tags": []
     },
     "output_type": "execute_result"
    }
   ],
   "source": [
    "learn.predict(\"Safe flight!\")"
   ]
  },
  {
   "cell_type": "markdown",
   "metadata": {},
   "source": [
    "## Accuracy"
   ]
  },
  {
   "cell_type": "code",
   "execution_count": 126,
   "metadata": {
    "colab": {
     "base_uri": "https://localhost:8080/",
     "height": 34
    },
    "colab_type": "code",
    "id": "MTEF4SXmmyX1",
    "outputId": "76303312-385b-47c1-8a18-a7fab2237170"
   },
   "outputs": [
    {
     "name": "stdout",
     "output_type": "stream",
     "text": [
      "Accuracy: 0.807\n"
     ]
    }
   ],
   "source": [
    "interp = TextClassificationInterpretation.from_learner(learn)\n",
    "acc = accuracy(interp.preds, interp.y_true)\n",
    "print('Accuracy: {0:.3f}'.format(acc))"
   ]
  },
  {
   "cell_type": "markdown",
   "metadata": {},
   "source": [
    "## Confusion Matrix"
   ]
  },
  {
   "cell_type": "code",
   "execution_count": 127,
   "metadata": {
    "colab": {
     "base_uri": "https://localhost:8080/",
     "height": 311
    },
    "colab_type": "code",
    "id": "e7JXhNtWm00f",
    "outputId": "a3e2179a-d118-42c4-d88e-865d323b592c"
   },
   "outputs": [
    {
     "data": {
      "image/png": "[encoded data removed]",
      "text/plain": [
       "<Figure size 432x288 with 1 Axes>"
      ]
     },
     "metadata": {
      "tags": []
     },
     "output_type": "display_data"
    }
   ],
   "source": [
    "interp.plot_confusion_matrix()"
   ]
  },
  {
   "cell_type": "markdown",
   "metadata": {},
   "source": [
    "## ROC and AUC Curve\n",
    "Now we plot the one vs. rest ROC curves and give the corresponding AUC values. The one vs. rest ROC curves are a generalization where we choose one class to be the Positive class and combine the rest."
   ]
  },
  {
   "cell_type": "code",
   "execution_count": 128,
   "metadata": {
    "colab": {
     "base_uri": "https://localhost:8080/",
     "height": 732
    },
    "colab_type": "code",
    "id": "MUmsfGeNm3PU",
    "outputId": "dad61bd3-56ee-4916-a333-c5d92ca8b990"
   },
   "outputs": [
    {
     "data": {
      "text/plain": [
       "Text(0, 0.5, 'True Positive Rate')"
      ]
     },
     "execution_count": 128,
     "metadata": {
      "tags": []
     },
     "output_type": "execute_result"
    },
    {
     "data": {
      "image/png": "[encoded data removed]",
      "text/plain": [
       "<Figure size 864x864 with 1 Axes>"
      ]
     },
     "metadata": {
      "tags": []
     },
     "output_type": "display_data"
    }
   ],
   "source": [
    "scores = pd.DataFrame(interp.preds)\n",
    "plt.figure(figsize=(12, 12))\n",
    "fpr = dict()\n",
    "tpr = dict()\n",
    "thresh = dict()\n",
    "for i, cls in zip(range(3), ['negative', 'neutral', 'positive']):\n",
    "    score = scores[i].apply(lambda x: x.item())\n",
    "    y_true = [x.item() == i for x in interp.y_true]\n",
    "    fpr[i], tpr[i], thresh[i] = roc_curve(y_true, score, pos_label=True)\n",
    "    auc = roc_auc_score(y_true, score)\n",
    "    leg = \"AUC: {0:.3f} -- {1}\".format(float(auc), cls)\n",
    "    plt.plot(fpr[i], tpr[i], label=leg)\n",
    "    \n",
    "plt.legend(loc=\"lower right\", prop={'size': 28})\n",
    "plt.xlabel('False Positive Rate')\n",
    "plt.ylabel('True Positive Rate')"
   ]
  }
 ],
 "metadata": {
  "accelerator": "GPU",
  "colab": {
   "name": "twitter_airline.ipynb",
   "provenance": []
  },
  "kernelspec": {
   "display_name": "Python 3",
   "language": "python",
   "name": "python3"
  },
  "language_info": {
   "codemirror_mode": {
    "name": "ipython",
    "version": 3
   },
   "file_extension": ".py",
   "mimetype": "text/x-python",
   "name": "python",
   "nbconvert_exporter": "python",
   "pygments_lexer": "ipython3",
   "version": "3.7.4"
  }
 },
 "nbformat": 4,
 "nbformat_minor": 1
}
